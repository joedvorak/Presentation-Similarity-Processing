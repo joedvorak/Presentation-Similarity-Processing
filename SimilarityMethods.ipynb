{
 "cells": [
  {
   "cell_type": "markdown",
   "metadata": {},
   "source": [
    "# Load Data\n",
    "The primary data source is the spreadsheet data file from the presentation organization portal. It is also possible to load the data after it has been separated into oral and poster dataframes.\n",
    "\n",
    "The abstracts were initially collected for session organization and not for public publication. This Jupyter notebook displays the steps used to create embeddings from the presentation titles and abstracts. However, since the orginal data is not available for inclusion in this repository, this notebook also enables loading the presentation data without the abstracts. This includes the presentation data and the embeddings created from those abstracts. Loading the embeddings also enables much quicker processing and data exploration as the embeddings take many minutes to calculate.\n",
    "\n",
    "## Primary Data Source"
   ]
  },
  {
   "cell_type": "code",
   "execution_count": 1,
   "metadata": {},
   "outputs": [
    {
     "name": "stdout",
     "output_type": "stream",
     "text": [
      "Title and Abstract: \n",
      "0    Challenges and Opportunities for Adopting Past...\n",
      "1    Evaluation of Climate Adaptation Strategies fo...\n",
      "2    Measuring and modeling the impact of tire wear...\n",
      "3    Application of multispectral and thermal UAV-b...\n",
      "4    Implementing Image-Based Phenotyping in Lab-Sc...\n",
      "Name: Title and Abstract, dtype: object\n"
     ]
    }
   ],
   "source": [
    "import pandas as pd\n",
    "\n",
    "df = pd.read_excel(\"2024 List.xlsx\")\n",
    "df['Title and Abstract'] = df['Submission-Call for Abstracts-Presentation Title-Character max 160'] + ': ' +df['Submission-Call for Abstracts-Abstract-Character max 4000-Abstracts will only be used to evaluate quality of talk and topic. They will not be published or able to be edited later.']\n",
    "print(f\"Title and Abstract: \\n{df['Title and Abstract'].head()}\")\n",
    "df = df.rename(columns={'Submission-Call for Abstracts-Session':'Original Session',\n",
    "                        'Submission-Call for Abstracts-Presentation Title-Character max 160':'Title',\n",
    "                        'Submission-Call for Abstracts-Abstract-Character max 4000-Abstracts will only be used to evaluate quality of talk and topic. They will not be published or able to be edited later.':'Abstract',\n",
    "                        'Submission-Call for Abstracts-Submission ID - 7 digits':'Abstract ID',\n",
    "                        'Submission-Call for Abstracts-Technical Community':'Original Technical Community',\n",
    "                        'Owner-First Name':'First Name',\n",
    "                        'Owner-Last Name':'Last Name',\n",
    "                        })\n",
    "# Seperate Poster and Oral presentaitons\n",
    "poster_df = df[df['Original Session'].str.contains('POSTER', case=False, na=False)].copy()\n",
    "oral_df = df[~df['Original Session'].str.contains('POSTER', case=False, na=False)].copy()\n",
    "oral_topics = oral_df['Title and Abstract'].tolist()"
   ]
  },
  {
   "cell_type": "markdown",
   "metadata": {},
   "source": [
    "In 2024, one oral presentation (Abstract ID of 2401361) is alone in its session (Session 301) as it was included in a hybrid session. This presentation was removed from processing and overall statistics since it did not have any other presentations with which it could be similar."
   ]
  },
  {
   "cell_type": "code",
   "execution_count": 2,
   "metadata": {},
   "outputs": [],
   "source": [
    "oral_df_sim = oral_df[oral_df['Abstract ID'] != 2401361]"
   ]
  },
  {
   "cell_type": "markdown",
   "metadata": {},
   "source": [
    "### Save dataframes for accessing without the spreadsheet."
   ]
  },
  {
   "cell_type": "code",
   "execution_count": 3,
   "metadata": {},
   "outputs": [],
   "source": [
    "import pickle\n",
    "with open('oral_df_doc.pkl', 'wb') as file:\n",
    "    pickle.dump(oral_df, file)\n",
    "with open('oral_df_doc_sim.pkl', 'wb') as file:\n",
    "    pickle.dump(oral_df_sim, file)"
   ]
  },
  {
   "cell_type": "markdown",
   "metadata": {},
   "source": [
    "## Alternative: Load Processed Dataframes\n"
   ]
  },
  {
   "cell_type": "code",
   "execution_count": 62,
   "metadata": {},
   "outputs": [],
   "source": [
    "# For loading base oral dataframe:\n",
    "import pickle\n",
    "\n",
    "with open('oral_df_doc.pkl', 'rb') as file:\n",
    "    oral_df = pickle.load(file)\n",
    "oral_topics = oral_df['Title and Abstract'].tolist()"
   ]
  },
  {
   "cell_type": "code",
   "execution_count": 6,
   "metadata": {},
   "outputs": [],
   "source": [
    "# For loading oral dataframe without the isolated presentations:\n",
    "import pickle\n",
    "# Load Embeddings\n",
    "with open('oral_df_doc_sim.pkl', 'rb') as file:\n",
    "    oral_df_sim = pickle.load(file)"
   ]
  },
  {
   "cell_type": "markdown",
   "metadata": {},
   "source": [
    "## Create dataframes for publishing"
   ]
  },
  {
   "cell_type": "markdown",
   "metadata": {},
   "source": [
    "### Create dataframe with only essential presentation data for publishing"
   ]
  },
  {
   "cell_type": "code",
   "execution_count": 4,
   "metadata": {},
   "outputs": [],
   "source": [
    "df_presentations = oral_df[['Abstract ID', 'First Name', 'Last Name', 'Title', 'Abstract', 'Original Technical Community','Original Session']].copy()\n",
    "df_presentations.to_pickle('df_presentations.pkl')"
   ]
  },
  {
   "cell_type": "code",
   "execution_count": 5,
   "metadata": {},
   "outputs": [],
   "source": [
    "# Create an abstract free dataframe\n",
    "\n",
    "import pickle\n",
    "df_no_abstract = df_presentations.drop(['First Name', 'Last Name', 'Abstract',], axis=1)\n",
    "with open('df_pres_basic.pkl', 'wb') as file:\n",
    "    pickle.dump(df_no_abstract, file)"
   ]
  },
  {
   "cell_type": "code",
   "execution_count": null,
   "metadata": {},
   "outputs": [],
   "source": [
    "# For loading abstract free dataframe:\n",
    "import pickle\n",
    "# Load Embeddings\n",
    "with open('df_pres_basic.pkl', 'rb') as file:\n",
    "    df_no_abstract = pickle.load(file)"
   ]
  },
  {
   "cell_type": "markdown",
   "metadata": {},
   "source": [
    "### Dataframe Encryption\n",
    "Create an abstract free dataframe and an encrypted dataframe for publishing.\n",
    "\n",
    "The file name for the encrypted file and the password should be changed in any future application."
   ]
  },
  {
   "cell_type": "markdown",
   "metadata": {},
   "source": [
    "This is a Markdown cell without a password so that it can be committed. Encrypted version was initially set with this code in a python cell.\n",
    "```\n",
    "password_df = '' # Set password here.\n",
    "filename_enc_df = 'encrypted_df_example.crypt'\n",
    "```"
   ]
  },
  {
   "cell_type": "code",
   "execution_count": 11,
   "metadata": {},
   "outputs": [],
   "source": [
    "# Create an encrypted dataframe for publishing.\n",
    "import pandas as pd\n",
    "import cryptpandas as crp\n",
    "# Encrypt the DataFrame and save as a pickle\n",
    "crp.to_encrypted(df_presentations, password=password_df, path=filename_enc_df)\n"
   ]
  },
  {
   "cell_type": "code",
   "execution_count": 12,
   "metadata": {},
   "outputs": [],
   "source": [
    "# Decrypting the encrypted dataframe.\n",
    "import pandas as pd\n",
    "import cryptpandas as crp\n",
    "decrypted_df = crp.read_encrypted(path=filename_enc_df, password=password_df)\n"
   ]
  },
  {
   "cell_type": "markdown",
   "metadata": {},
   "source": [
    "# Calculate Embeddings and Token Lengths\n",
    "### Model: all-MiniLM-L6-v2"
   ]
  },
  {
   "cell_type": "code",
   "execution_count": 6,
   "metadata": {},
   "outputs": [
    {
     "name": "stdout",
     "output_type": "stream",
     "text": [
      "Model Card:\n",
      " tags:\n",
      "- sentence-transformers\n",
      "- sentence-similarity\n",
      "- feature-extraction\n",
      "base_model: sentence-transformers/all-MiniLM-L6-v2\n",
      "pipeline_tag: sentence-similarity\n",
      "library_name: sentence-transformers\n",
      "Similarity Function (None defaults to cosine):  cosine\n",
      "Max Sequence Length:  256\n"
     ]
    }
   ],
   "source": [
    "from sentence_transformers import SentenceTransformer\n",
    "import pandas as pd\n",
    "import numpy as np\n",
    "mini_embeddings_model = SentenceTransformer('sentence-transformers/all-MiniLM-L6-v2')\n",
    "# Check the model settings and similiarity function with which the model was trained.\n",
    "print(\"Model Card:\\n\", mini_embeddings_model.model_card_data)\n",
    "print(\"Similarity Function (None defaults to cosine): \", mini_embeddings_model.similarity_fn_name)\n",
    "print(\"Max Sequence Length: \", mini_embeddings_model.max_seq_length)"
   ]
  },
  {
   "cell_type": "markdown",
   "metadata": {},
   "source": [
    "### Check Token Lengths"
   ]
  },
  {
   "cell_type": "code",
   "execution_count": 7,
   "metadata": {},
   "outputs": [
    {
     "name": "stderr",
     "output_type": "stream",
     "text": [
      "Token indices sequence length is longer than the specified maximum sequence length for this model (454 > 256). Running this sequence through the model will result in indexing errors\n"
     ]
    },
    {
     "name": "stdout",
     "output_type": "stream",
     "text": [
      "Tokenizer maximum sequence length: 256\n",
      "An example of the tokens within a title and abstract:\n",
      "utilizing super cap ##ac ##itors to improve battery performance in electric mobile machinery : off - road and heavy machinery drive ##train ##s are elect ##ri ##fying . many of these new electrified machinery designs rely on batteries for energy storage . however , batteries can be heavy , expensive and bulky . therefore , engineers must carefully consider the battery and energy storage systems within electrified drive ##train ##s . in situations with highly variable power demands or even reg ##ener ##ative currents , the ability to deliver or absorb power can be the critical design parameter rather than overall energy density of the battery . in these cases , a super cap ##ac ##itor provides an alternative method of achieving power criteria instead of increasing the battery pack size or switching to otherwise less desirable battery technologies .\n"
     ]
    },
    {
     "data": {
      "image/png": "[encoded data removed]",
      "text/plain": [
       "<Figure size 640x480 with 1 Axes>"
      ]
     },
     "metadata": {},
     "output_type": "display_data"
    }
   ],
   "source": [
    "mini_tokenizer = mini_embeddings_model.tokenizer\n",
    "mini_max_length = mini_tokenizer.model_max_length\n",
    "print(f\"Tokenizer maximum sequence length: {mini_max_length}\")\n",
    "mini_tokenized_lengths = [len(mini_tokenizer.tokenize(text)) for text in oral_topics]\n",
    "mini_token_out = [mini_tokenizer.tokenize(text, truncation=True, max_length=mini_max_length) for text in oral_topics]\n",
    "print(\"An example of the tokens within a title and abstract:\")\n",
    "concatenated_output = [\" \".join(tokens) for tokens in mini_token_out]  # List of strings\n",
    "print(concatenated_output[609])\n",
    "\n",
    "import matplotlib.pyplot as plt\n",
    "# Plot length  distribution\n",
    "plt.hist(mini_tokenized_lengths, bins=20, edgecolor='black')\n",
    "plt.axvline(x=mini_max_length, color='r',\n",
    "            linestyle='--', label='Max Tokenizer Length')\n",
    "plt.title('Distribution of Lengths')\n",
    "plt.xlabel('Token Length')\n",
    "plt.ylabel('Frequency')\n",
    "plt.legend()\n",
    "plt.show()"
   ]
  },
  {
   "cell_type": "markdown",
   "metadata": {},
   "source": [
    "### Embed presentations and Calculate Similarity"
   ]
  },
  {
   "cell_type": "code",
   "execution_count": 8,
   "metadata": {},
   "outputs": [
    {
     "name": "stdout",
     "output_type": "stream",
     "text": [
      "Titles Embedded: 810, Length of Vectors: 384\n",
      "Encoding time: 18.9125 seconds\n"
     ]
    }
   ],
   "source": [
    "import time\n",
    "start_time = time.time()\n",
    "mini_embeddings = mini_embeddings_model.encode(oral_topics)\n",
    "end_time = time.time()\n",
    "mini_elapsed_time = end_time - start_time\n",
    "print(f\"Titles Embedded: {len(mini_embeddings)}, Length of Vectors: {len(mini_embeddings[0])}\")\n",
    "print(f\"Encoding time: {mini_elapsed_time:.4f} seconds\")\n"
   ]
  },
  {
   "cell_type": "code",
   "execution_count": 9,
   "metadata": {},
   "outputs": [],
   "source": [
    "mini_similarities = mini_embeddings_model.similarity(mini_embeddings, mini_embeddings)"
   ]
  },
  {
   "cell_type": "markdown",
   "metadata": {},
   "source": [
    "## Model: all-mpnet-base-v2"
   ]
  },
  {
   "cell_type": "code",
   "execution_count": 10,
   "metadata": {},
   "outputs": [
    {
     "name": "stdout",
     "output_type": "stream",
     "text": [
      "Model Card:\n",
      " tags:\n",
      "- sentence-transformers\n",
      "- sentence-similarity\n",
      "- feature-extraction\n",
      "base_model: sentence-transformers/all-mpnet-base-v2\n",
      "pipeline_tag: sentence-similarity\n",
      "library_name: sentence-transformers\n",
      "Similarity Function (None defaults to cosine):  cosine\n",
      "Max Sequence Length:  384\n"
     ]
    }
   ],
   "source": [
    "mpnet_embeddings_model = SentenceTransformer('sentence-transformers/all-mpnet-base-v2')\n",
    "print(\"Model Card:\\n\", mpnet_embeddings_model.model_card_data)\n",
    "print(\"Similarity Function (None defaults to cosine): \", mpnet_embeddings_model.similarity_fn_name)\n",
    "print(\"Max Sequence Length: \", mpnet_embeddings_model.max_seq_length)"
   ]
  },
  {
   "cell_type": "markdown",
   "metadata": {},
   "source": [
    "### Check Token Lengths"
   ]
  },
  {
   "cell_type": "code",
   "execution_count": 11,
   "metadata": {},
   "outputs": [
    {
     "name": "stderr",
     "output_type": "stream",
     "text": [
      "Token indices sequence length is longer than the specified maximum sequence length for this model (454 > 384). Running this sequence through the model will result in indexing errors\n"
     ]
    },
    {
     "name": "stdout",
     "output_type": "stream",
     "text": [
      "Tokenizer maximum sequence length: 384\n",
      "utilizing super cap ##ac ##itors to improve battery performance in electric mobile machinery : off - road and heavy machinery drive ##train ##s are elect ##ri ##fying . many of these new electrified machinery designs rely on batteries for energy storage . however , batteries can be heavy , expensive and bulky . therefore , engineers must carefully consider the battery and energy storage systems within electrified drive ##train ##s . in situations with highly variable power demands or even reg ##ener ##ative currents , the ability to deliver or absorb power can be the critical design parameter rather than overall energy density of the battery . in these cases , a super cap ##ac ##itor provides an alternative method of achieving power criteria instead of increasing the battery pack size or switching to otherwise less desirable battery technologies .\n"
     ]
    },
    {
     "data": {
      "image/png": "[encoded data removed]",
      "text/plain": [
       "<Figure size 640x480 with 1 Axes>"
      ]
     },
     "metadata": {},
     "output_type": "display_data"
    }
   ],
   "source": [
    "mpnet_tokenizer = mpnet_embeddings_model.tokenizer\n",
    "mpnet_max_length = mpnet_tokenizer.model_max_length\n",
    "print(f\"Tokenizer maximum sequence length: {mpnet_max_length}\")\n",
    "mpnet_tokenized_lengths = [len(mpnet_tokenizer.tokenize(text)) for text in oral_topics]\n",
    "mpnet_token_out = [mpnet_tokenizer.tokenize(text, truncation=True, max_length=mpnet_max_length) for text in oral_topics]\n",
    "concatenated_output = [\" \".join(tokens) for tokens in mpnet_token_out]  # List of strings\n",
    "print(concatenated_output[609])\n",
    "import matplotlib.pyplot as plt\n",
    "# Plot length  distribution\n",
    "plt.hist(mpnet_tokenized_lengths, bins=20, edgecolor='black')\n",
    "plt.axvline(x=mpnet_max_length, color='r',\n",
    "            linestyle='--', label='Max Tokenizer Length')\n",
    "plt.title('Distribution of Lengths')\n",
    "plt.xlabel('Token Length')\n",
    "plt.ylabel('Frequency')\n",
    "plt.legend()\n",
    "plt.show()"
   ]
  },
  {
   "cell_type": "markdown",
   "metadata": {},
   "source": [
    "### Embed Presentations"
   ]
  },
  {
   "cell_type": "code",
   "execution_count": 12,
   "metadata": {},
   "outputs": [
    {
     "name": "stdout",
     "output_type": "stream",
     "text": [
      "Titles Embedded: 810, Length of Vectors: 768\n",
      "Encoding time: 265.4264 seconds\n"
     ]
    }
   ],
   "source": [
    "import time\n",
    "start_time = time.time()\n",
    "mpnet_embeddings = mpnet_embeddings_model.encode(oral_topics)\n",
    "end_time = time.time()\n",
    "mpnet_elapsed_time = end_time - start_time\n",
    "print(f\"Titles Embedded: {len(mpnet_embeddings)}, Length of Vectors: {len(mpnet_embeddings[0])}\")\n",
    "print(f\"Encoding time: {mpnet_elapsed_time:.4f} seconds\")\n"
   ]
  },
  {
   "cell_type": "code",
   "execution_count": 13,
   "metadata": {},
   "outputs": [],
   "source": [
    "mpnet_similarities = mpnet_embeddings_model.similarity(mpnet_embeddings, mpnet_embeddings)"
   ]
  },
  {
   "cell_type": "markdown",
   "metadata": {},
   "source": [
    "## Model: cde-small-v1"
   ]
  },
  {
   "cell_type": "code",
   "execution_count": 59,
   "metadata": {},
   "outputs": [
    {
     "name": "stdout",
     "output_type": "stream",
     "text": [
      "Model Card:\n",
      " tags:\n",
      "- sentence-transformers\n",
      "- sentence-similarity\n",
      "- feature-extraction\n",
      "base_model: jxm/cde-small-v1\n",
      "pipeline_tag: sentence-similarity\n",
      "library_name: sentence-transformers\n",
      "Similarity Function (None defaults to cosine):  cosine\n",
      "Max Token Length: 512\n"
     ]
    }
   ],
   "source": [
    "# Line below should be uncommented to run. It must be commented out for Git commit as its output is interpreted as containing a secret. \n",
    "# cde_embeddings_model = SentenceTransformer('jxm/cde-small-v1', trust_remote_code=True)\n",
    "print(\"Model Card:\\n\", cde_embeddings_model.model_card_data)\n",
    "print(\"Similarity Function (None defaults to cosine): \", cde_embeddings_model.similarity_fn_name)\n",
    "print(\"Max Token Length:\", cde_embeddings_model.tokenizer.model_max_length)"
   ]
  },
  {
   "cell_type": "markdown",
   "metadata": {},
   "source": [
    "### Check Token Lengths"
   ]
  },
  {
   "cell_type": "code",
   "execution_count": 15,
   "metadata": {},
   "outputs": [
    {
     "name": "stderr",
     "output_type": "stream",
     "text": [
      "Token indices sequence length is longer than the specified maximum sequence length for this model (730 > 512). Running this sequence through the model will result in indexing errors\n"
     ]
    },
    {
     "name": "stdout",
     "output_type": "stream",
     "text": [
      "Tokenizer maximum sequence length: 512\n",
      "utilizing super cap ##ac ##itors to improve battery performance in electric mobile machinery : off - road and heavy machinery drive ##train ##s are elect ##ri ##fying . many of these new electrified machinery designs rely on batteries for energy storage . however , batteries can be heavy , expensive and bulky . therefore , engineers must carefully consider the battery and energy storage systems within electrified drive ##train ##s . in situations with highly variable power demands or even reg ##ener ##ative currents , the ability to deliver or absorb power can be the critical design parameter rather than overall energy density of the battery . in these cases , a super cap ##ac ##itor provides an alternative method of achieving power criteria instead of increasing the battery pack size or switching to otherwise less desirable battery technologies .\n"
     ]
    },
    {
     "data": {
      "image/png": "[encoded data removed]",
      "text/plain": [
       "<Figure size 640x480 with 1 Axes>"
      ]
     },
     "metadata": {},
     "output_type": "display_data"
    }
   ],
   "source": [
    "cde_tokenizer = cde_embeddings_model.tokenizer\n",
    "cde_max_length = cde_tokenizer.model_max_length\n",
    "print(f\"Tokenizer maximum sequence length: {cde_max_length}\")\n",
    "cde_tokenized_lengths = [len(cde_tokenizer.tokenize(text)) for text in oral_topics]\n",
    "cde_token_out = [cde_tokenizer.tokenize(text, truncation=True, max_length=cde_max_length) for text in oral_topics]\n",
    "cde_concatenated_output = [\" \".join(tokens) for tokens in cde_token_out]  # List of strings\n",
    "print(cde_concatenated_output[609])\n",
    "\n",
    "import matplotlib.pyplot as plt\n",
    "# Plot length  distribution\n",
    "plt.hist(cde_tokenized_lengths, bins=20, edgecolor='black')\n",
    "plt.axvline(x=cde_max_length, color='r',\n",
    "            linestyle='--', label='Max Tokenizer Length')\n",
    "plt.title('Distribution of Lengths')\n",
    "plt.xlabel('Token Length')\n",
    "plt.ylabel('Frequency')\n",
    "plt.legend()\n",
    "plt.show()"
   ]
  },
  {
   "cell_type": "markdown",
   "metadata": {},
   "source": [
    "### Embed Presentations\n",
    "First, create the dataset embeddings as required by this model."
   ]
  },
  {
   "cell_type": "code",
   "execution_count": 16,
   "metadata": {},
   "outputs": [
    {
     "name": "stdout",
     "output_type": "stream",
     "text": [
      "Titles Embedded: 512, Length of Vectors: 768\n",
      "Dataset Encoding time: 200.7328 seconds\n"
     ]
    }
   ],
   "source": [
    "import time\n",
    "import random\n",
    "\n",
    "minicorpus_size = cde_embeddings_model[0].config.transductive_corpus_size\n",
    "minicorpus_docs = random.sample(oral_topics, k=minicorpus_size) # Put some strings here that are representative of your corpus, for example by calling random.sample(corpus, k=minicorpus_size)\n",
    "assert len(minicorpus_docs) == minicorpus_size # You must use exactly this many documents in the minicorpus. You can oversample if your corpus is smaller.\n",
    "\n",
    "\n",
    "start_time = time.time()\n",
    "cde_dataset_embeddings = cde_embeddings_model.encode(\n",
    "    minicorpus_docs,\n",
    "    prompt_name=\"document\",\n",
    "    convert_to_tensor=True\n",
    ")\n",
    "end_time = time.time()\n",
    "cde_dataset_elapsed_time = end_time - start_time\n",
    "print(f\"Titles Embedded: {len(cde_dataset_embeddings)}, Length of Vectors: {len(cde_dataset_embeddings[0])}\")\n",
    "print(f\"Dataset Encoding time: {cde_dataset_elapsed_time:.4f} seconds\")"
   ]
  },
  {
   "cell_type": "markdown",
   "metadata": {},
   "source": [
    "Then perform the main embedding"
   ]
  },
  {
   "cell_type": "code",
   "execution_count": 17,
   "metadata": {},
   "outputs": [
    {
     "name": "stdout",
     "output_type": "stream",
     "text": [
      "Titles Embedded: 810, Length of Vectors: 768\n",
      "Document Encoding time: 723.0562 seconds\n",
      "Total Encoding time: 923.7890 seconds\n"
     ]
    }
   ],
   "source": [
    "start_time = time.time()\n",
    "cde_doc_embeddings = cde_embeddings_model.encode(\n",
    "    oral_topics,\n",
    "    prompt_name=\"document\",\n",
    "    dataset_embeddings=cde_dataset_embeddings,\n",
    "    convert_to_tensor=True,\n",
    ")\n",
    "end_time = time.time()\n",
    "cde_doc_elapsed_time = end_time - start_time\n",
    "print(f\"Titles Embedded: {len(cde_doc_embeddings)}, Length of Vectors: {len(cde_doc_embeddings[0])}\")\n",
    "print(f\"Document Encoding time: {cde_doc_elapsed_time:.4f} seconds\")\n",
    "cde_elapsed_time = cde_doc_elapsed_time+cde_dataset_elapsed_time\n",
    "print(f\"Total Encoding time: {(cde_elapsed_time):.4f} seconds\")"
   ]
  },
  {
   "cell_type": "code",
   "execution_count": 18,
   "metadata": {},
   "outputs": [],
   "source": [
    "cde_similarities = cde_embeddings_model.similarity(cde_doc_embeddings, cde_doc_embeddings)"
   ]
  },
  {
   "cell_type": "markdown",
   "metadata": {},
   "source": [
    "## Model: nomic-embed-text-v1.5"
   ]
  },
  {
   "cell_type": "code",
   "execution_count": 19,
   "metadata": {},
   "outputs": [
    {
     "name": "stderr",
     "output_type": "stream",
     "text": [
      "<All keys matched successfully>\n"
     ]
    },
    {
     "name": "stdout",
     "output_type": "stream",
     "text": [
      "Model Card:\n",
      " tags:\n",
      "- sentence-transformers\n",
      "- sentence-similarity\n",
      "- feature-extraction\n",
      "base_model: nomic-ai/nomic-embed-text-v1.5\n",
      "pipeline_tag: sentence-similarity\n",
      "library_name: sentence-transformers\n",
      "Similarity Function (None defaults to cosine):  cosine\n",
      "Max Token Length: 8192\n"
     ]
    }
   ],
   "source": [
    "# Load the model in Sentence Transformers to check statistics\n",
    "from sentence_transformers import SentenceTransformer\n",
    "\n",
    "nomic_embeddings_model = SentenceTransformer(\"nomic-ai/nomic-embed-text-v1.5\", trust_remote_code=True)\n",
    "print(\"Model Card:\\n\", nomic_embeddings_model.model_card_data)\n",
    "print(\"Similarity Function (None defaults to cosine): \", nomic_embeddings_model.similarity_fn_name)\n",
    "print(\"Max Token Length:\", nomic_embeddings_model.tokenizer.model_max_length)\n"
   ]
  },
  {
   "cell_type": "markdown",
   "metadata": {},
   "source": [
    "### Check Token Lengths"
   ]
  },
  {
   "cell_type": "code",
   "execution_count": 20,
   "metadata": {},
   "outputs": [
    {
     "name": "stdout",
     "output_type": "stream",
     "text": [
      "Tokenizer maximum sequence length: 8192\n",
      "Example Tokenized Title and Abstract:\n",
      "utilizing super cap ##ac ##itors to improve battery performance in electric mobile machinery : off - road and heavy machinery drive ##train ##s are elect ##ri ##fying . many of these new electrified machinery designs rely on batteries for energy storage . however , batteries can be heavy , expensive and bulky . therefore , engineers must carefully consider the battery and energy storage systems within electrified drive ##train ##s . in situations with highly variable power demands or even reg ##ener ##ative currents , the ability to deliver or absorb power can be the critical design parameter rather than overall energy density of the battery . in these cases , a super cap ##ac ##itor provides an alternative method of achieving power criteria instead of increasing the battery pack size or switching to otherwise less desirable battery technologies .\n"
     ]
    },
    {
     "name": "stderr",
     "output_type": "stream",
     "text": [
      "C:\\Users\\jdv223\\AppData\\Local\\Temp\\ipykernel_26152\\608819261.py:19: UserWarning: No artists with labels found to put in legend.  Note that artists whose label start with an underscore are ignored when legend() is called with no argument.\n",
      "  plt.legend()\n"
     ]
    },
    {
     "data": {
      "image/png": "[encoded data removed]",
      "text/plain": [
       "<Figure size 640x480 with 1 Axes>"
      ]
     },
     "metadata": {},
     "output_type": "display_data"
    }
   ],
   "source": [
    "nomic_tokenizer = nomic_embeddings_model.tokenizer\n",
    "nomic_max_length = nomic_tokenizer.model_max_length\n",
    "print(f\"Tokenizer maximum sequence length: {nomic_max_length}\")\n",
    "nomic_tokenized_lengths = [len(nomic_tokenizer.tokenize(text)) for text in oral_topics]\n",
    "nomic_token_out = [nomic_tokenizer.tokenize(text, truncation=True, max_length=nomic_max_length) for text in oral_topics]\n",
    "nomic_concatenated_output = [\" \".join(tokens) for tokens in nomic_token_out]  # List of strings\n",
    "print(\"Example Tokenized Title and Abstract:\")\n",
    "print(nomic_concatenated_output[609])\n",
    "\n",
    "import matplotlib.pyplot as plt\n",
    "# Plot length  distribution\n",
    "plt.hist(nomic_tokenized_lengths, bins=20, edgecolor='black')\n",
    "# Do not plot the maximum level as it is way beyond the token length range.\n",
    "# plt.axvline(x=nomic_max_length, color='r',\n",
    "#             linestyle='--', label='Max Tokenizer Length')\n",
    "plt.title('Distribution of Lengths')\n",
    "plt.xlabel('Token Length')\n",
    "plt.ylabel('Frequency')\n",
    "plt.legend()\n",
    "plt.show()"
   ]
  },
  {
   "cell_type": "markdown",
   "metadata": {},
   "source": [
    "### Embed Presentations\n",
    "For this model, a separate library is specifically provided that promises better performance than Sentence Transformers so it is used instead."
   ]
  },
  {
   "cell_type": "code",
   "execution_count": 21,
   "metadata": {},
   "outputs": [
    {
     "name": "stdout",
     "output_type": "stream",
     "text": [
      "Titles Embedded: 810, Length of Vectors: 768\n",
      "Encoding time: 1325.0196 seconds\n"
     ]
    }
   ],
   "source": [
    "import time\n",
    "from nomic import embed\n",
    "start_time = time.time()\n",
    "\n",
    "output = embed.text(\n",
    "    texts=oral_topics,\n",
    "    model='nomic-embed-text-v1.5',\n",
    "    task_type='clustering',\n",
    "    inference_mode='local',\n",
    ")\n",
    "nomic_embeddings = output['embeddings']\n",
    "end_time = time.time()\n",
    "nomic_elapsed_time = end_time - start_time\n",
    "print(f\"Titles Embedded: {len(nomic_embeddings)}, Length of Vectors: {len(nomic_embeddings[0])}\")\n",
    "print(f\"Encoding time: {nomic_elapsed_time:.4f} seconds\")"
   ]
  },
  {
   "cell_type": "code",
   "execution_count": 22,
   "metadata": {},
   "outputs": [],
   "source": [
    "nomic_similarities = nomic_embeddings_model.similarity(nomic_embeddings, nomic_embeddings)"
   ]
  },
  {
   "cell_type": "markdown",
   "metadata": {},
   "source": [
    "### Convert Similarities to Dataframes"
   ]
  },
  {
   "cell_type": "code",
   "execution_count": 23,
   "metadata": {},
   "outputs": [],
   "source": [
    "df_similarity_mini = pd.DataFrame(mini_similarities, index = oral_df.index, columns=oral_df.index)\n",
    "df_similarity_mpnet = pd.DataFrame(mpnet_similarities, index = oral_df.index, columns=oral_df.index)\n",
    "df_similarity_cde = pd.DataFrame(cde_similarities, index = oral_df.index, columns=oral_df.index)\n",
    "df_similarity_nomic = pd.DataFrame(nomic_similarities, index = oral_df.index, columns=oral_df.index)"
   ]
  },
  {
   "cell_type": "markdown",
   "metadata": {},
   "source": [
    "## Save Embeddings and Similarities"
   ]
  },
  {
   "cell_type": "code",
   "execution_count": 24,
   "metadata": {},
   "outputs": [],
   "source": [
    "import torch\n",
    "import pickle\n",
    "# Save the embeddings to files\n",
    "with open('oral mini embeddings.pkl', 'wb') as file:\n",
    "    pickle.dump(mini_embeddings, file)\n",
    "with open('oral mpnet embeddings.pkl', 'wb') as file:\n",
    "    pickle.dump(mpnet_embeddings, file)\n",
    "with open('oral cde embeddings.pkl', 'wb') as file:\n",
    "    pickle.dump(cde_doc_embeddings, file)\n",
    "with open('oral nomic embeddings.pkl', 'wb') as file:\n",
    "    pickle.dump(nomic_embeddings, file)\n",
    "# Save the similarities\n",
    "torch.save(mini_similarities, 'oral mini similarities.pt')\n",
    "torch.save(mpnet_similarities, 'oral mpnet similarities.pt')\n",
    "torch.save(cde_similarities, 'oral cde similarities.pt')\n",
    "torch.save(nomic_similarities, 'oral nomic similarities.pt')"
   ]
  },
  {
   "cell_type": "code",
   "execution_count": 25,
   "metadata": {},
   "outputs": [],
   "source": [
    "# Save the embedding dataframes\n",
    "df_similarity_mini.to_pickle('miniLM_similarities_oral.pkl')\n",
    "df_similarity_mpnet.to_pickle('mpnet_similarities_oral.pkl') \n",
    "df_similarity_cde.to_pickle('cde_similarities_oral.pkl')\n",
    "df_similarity_nomic.to_pickle('nomic_similarities_oral.pkl')"
   ]
  },
  {
   "cell_type": "markdown",
   "metadata": {},
   "source": [
    "## Load Embeddings and Similarities"
   ]
  },
  {
   "cell_type": "markdown",
   "metadata": {},
   "source": [
    "Load the Embeddings"
   ]
  },
  {
   "cell_type": "code",
   "execution_count": 10,
   "metadata": {},
   "outputs": [],
   "source": [
    "import torch\n",
    "import pickle\n",
    "import numpy as np\n",
    "import pandas as pd\n",
    "\n",
    "# Load the embeddings from files\n",
    "with open('oral mini embeddings.pkl', 'rb') as file:\n",
    "    mini_embeddings = pickle.load(file)\n",
    "with open('oral mpnet embeddings.pkl', 'rb') as file:\n",
    "    mpnet_embeddings = pickle.load(file)\n",
    "with open('oral cde embeddings.pkl', 'rb') as file:\n",
    "    cde_doc_embeddings = pickle.load(file)\n",
    "with open('oral nomic embeddings.pkl', 'rb') as file:\n",
    "    nomic_embeddings = pickle.load(file)"
   ]
  },
  {
   "cell_type": "markdown",
   "metadata": {},
   "source": [
    "##### Load the Similarity Tensors"
   ]
  },
  {
   "cell_type": "code",
   "execution_count": 20,
   "metadata": {},
   "outputs": [],
   "source": [
    "mini_similarities = torch.load('oral mini similarities.pt', weights_only=False)\n",
    "mpnet_similarities = torch.load('oral mpnet similarities.pt', weights_only=False)\n",
    "cde_similarities = torch.load('oral cde similarities.pt', weights_only=False)\n",
    "nomic_similarities = torch.load('oral nomic similarities.pt', weights_only=False)"
   ]
  },
  {
   "cell_type": "markdown",
   "metadata": {},
   "source": [
    "##### Load the Similarity Dataframes"
   ]
  },
  {
   "cell_type": "code",
   "execution_count": 37,
   "metadata": {},
   "outputs": [],
   "source": [
    "df_similarity_mini = pd.read_pickle(\"miniLM_similarities_oral.pkl\")\n",
    "df_similarity_mpnet = pd.read_pickle('mpnet_similarities_oral.pkl') \n",
    "df_similarity_cde = pd.read_pickle('cde_similarities_oral.pkl')\n",
    "df_similarity_nomic = pd.read_pickle('nomic_similarities_oral.pkl')"
   ]
  },
  {
   "cell_type": "markdown",
   "metadata": {},
   "source": [
    "# Process Similarity\n",
    "Process similarity by session and for each presentation within a session.\n",
    "**This is part is done within the presentation app.**\n",
    "Following the steps below allow processing outside of the app."
   ]
  },
  {
   "cell_type": "code",
   "execution_count": 26,
   "metadata": {},
   "outputs": [],
   "source": [
    "def calculate_cluster_similarities(similarity_matrix, labels):\n",
    "    \"\"\"\n",
    "    Calculate average similarity of each document with others in its cluster\n",
    "    \n",
    "    Returns:\n",
    "    - document_similarities: Average similarity of each document with its cluster\n",
    "    - cluster_avg_similarities: Average similarity for each cluster\n",
    "    \"\"\"\n",
    "    n_samples = len(labels)\n",
    "    document_similarities = np.zeros(n_samples)\n",
    "    cluster_avg_similarities = {}\n",
    "    \n",
    "    for i in range(n_samples):\n",
    "        # Get indices of other documents in the same cluster\n",
    "        cluster_idx = np.where(labels == labels[i])[0]\n",
    "        cluster_idx = cluster_idx[cluster_idx != i]  # Exclude self\n",
    "        \n",
    "        if len(cluster_idx) > 0:  # If there are other documents in the cluster\n",
    "            # Calculate average similarity with other documents in cluster\n",
    "            document_similarities[i] = np.mean(similarity_matrix[i, cluster_idx])\n",
    "        \n",
    "    # Calculate average similarity for each cluster\n",
    "    unique_clusters = np.unique(labels)\n",
    "    for cluster in unique_clusters:\n",
    "        cluster_mask = labels == cluster\n",
    "        cluster_docs = np.where(cluster_mask)[0]\n",
    "        \n",
    "        if len(cluster_docs) > 1:\n",
    "            cluster_similarities = []\n",
    "            for doc in cluster_docs:\n",
    "                other_docs = cluster_docs[cluster_docs != doc]\n",
    "                avg_sim = np.mean(similarity_matrix[doc, other_docs])\n",
    "                cluster_similarities.append(avg_sim)\n",
    "            cluster_avg_similarities[cluster] = np.mean(cluster_similarities)\n",
    "        else:\n",
    "            cluster_avg_similarities[cluster] = 0.0\n",
    "            \n",
    "    return document_similarities, cluster_avg_similarities"
   ]
  },
  {
   "cell_type": "markdown",
   "metadata": {},
   "source": [
    "### Select similarity dataframe of your choice"
   ]
  },
  {
   "cell_type": "code",
   "execution_count": 27,
   "metadata": {},
   "outputs": [],
   "source": [
    "df_similarity = df_similarity_nomic"
   ]
  },
  {
   "cell_type": "markdown",
   "metadata": {},
   "source": [
    "### Calculate the Session and Presentation Similarity Statistics"
   ]
  },
  {
   "cell_type": "code",
   "execution_count": 28,
   "metadata": {},
   "outputs": [],
   "source": [
    "pres_session_similarity, session_similarity = calculate_cluster_similarities(df_similarity.to_numpy(), np.array(df_presentations['Original Session']))\n",
    "df_presentations['Presentation-Session Similarity'] = pres_session_similarity\n",
    "df_presentations['Session Similarity'] = df_presentations['Original Session'].map(session_similarity)\n",
    "\n",
    "# Calculate standard deviation for each 'Original Session'\n",
    "df_presentations['Session Std Dev'] = df_presentations.groupby('Original Session')['Presentation-Session Similarity'].transform('std')\n",
    "# Calculate deviation from the mean\n",
    "df_presentations['Raw Deviation'] = df_presentations['Presentation-Session Similarity'] - df_presentations['Session Similarity']\n",
    "# Calculate standardized deviation\n",
    "df_presentations['Standardized Deviation'] = df_presentations['Raw Deviation'] / df_presentations['Session Std Dev']\n",
    "\n",
    "# Create the Sessions DataFrame\n",
    "df_sessions = df_presentations[['Original Session', 'Session Similarity', 'Session Std Dev']].copy()\n",
    "# Drop duplicate rows, keeping only the first instance, then reindex.\n",
    "df_sessions.drop_duplicates(subset=['Original Session'], keep='first', inplace=True)\n",
    "df_sessions = df_sessions.reset_index(drop=True)"
   ]
  },
  {
   "cell_type": "markdown",
   "metadata": {},
   "source": [
    "### Plot Overall Similarities between Presentations"
   ]
  },
  {
   "cell_type": "code",
   "execution_count": 29,
   "metadata": {},
   "outputs": [
    {
     "data": {
      "image/png": "[encoded data removed]",
      "text/plain": [
       "<Figure size 600x300 with 1 Axes>"
      ]
     },
     "metadata": {},
     "output_type": "display_data"
    },
    {
     "name": "stdout",
     "output_type": "stream",
     "text": [
      "Max: 0.96\n"
     ]
    }
   ],
   "source": [
    "import matplotlib.pyplot as plt\n",
    "import torch\n",
    "similarity_to_plot = nomic_similarities\n",
    "\n",
    "# Plot similarity distribution\n",
    "plt.figure(figsize=(6, 3))\n",
    "plt.hist(similarity_to_plot[similarity_to_plot < 0.99].flatten(), bins=50, edgecolor='black')\n",
    "#plt.title('Distribution of Cosine Similarities')\n",
    "plt.xlabel('Cosine Similarity')\n",
    "plt.ylabel('Frequency')\n",
    "mean_sim = similarity_to_plot[similarity_to_plot < 0.99].mean()\n",
    "plt.axvline(x=mean_sim, color='r',\n",
    "            linestyle='--', label=f'Mean similarity = {mean_sim: 0.2f}')\n",
    "plt.legend()\n",
    "plt.show()\n",
    "print(f\"Max: {torch.max(similarity_to_plot[similarity_to_plot < 0.99]):.2f}\")"
   ]
  },
  {
   "cell_type": "markdown",
   "metadata": {},
   "source": [
    "If you want to remove the impact of the presentation that was in a session by itself, run the line below to remove it from the dataframe and any following results."
   ]
  },
  {
   "cell_type": "code",
   "execution_count": 30,
   "metadata": {},
   "outputs": [],
   "source": [
    "idx_to_remove = df_presentations[df_presentations['Abstract ID'] == 2401361].index\n",
    "# Remove the row from df_presentations\n",
    "df_presentations_no_single = df_presentations.drop(idx_to_remove)\n",
    "\n",
    "# Remove the row and column from df_similarity\n",
    "df_similarity_no_single = df_similarity.drop(index=idx_to_remove, columns=idx_to_remove) "
   ]
  },
  {
   "cell_type": "markdown",
   "metadata": {},
   "source": [
    "### Plot Presentation-Session Similarity"
   ]
  },
  {
   "cell_type": "code",
   "execution_count": 31,
   "metadata": {},
   "outputs": [
    {
     "name": "stdout",
     "output_type": "stream",
     "text": [
      "bins: 35\n"
     ]
    },
    {
     "data": {
      "image/png": "[encoded data removed]",
      "text/plain": [
       "<Figure size 600x300 with 1 Axes>"
      ]
     },
     "metadata": {},
     "output_type": "display_data"
    }
   ],
   "source": [
    "import matplotlib.pyplot as plt\n",
    "import numpy as np\n",
    "# Printing Uniform Histogram Charts\n",
    "min_hist = 0.55\n",
    "max_hist = 0.90\n",
    "bin_width = 0.01\n",
    "bin_num = int((max_hist-min_hist)/bin_width)\n",
    "print(f\"bins: {bin_num}\")\n",
    "# Plot similarity distributions\n",
    "plt.figure(figsize=(6, 3))\n",
    "pres_sess_sim = df_presentations_no_single['Presentation-Session Similarity']\n",
    "plt.hist(pres_sess_sim, bins=bin_num, range=(min_hist, max_hist), alpha=0.7,\n",
    "            #color='blue', \n",
    "            edgecolor='black')\n",
    "plt.axvline(x=np.mean(pres_sess_sim), color='r',\n",
    "            linestyle='--', label=f'Mean similarity={np.mean(pres_sess_sim):.2f}')\n",
    "plt.xlabel('Presentation-Session Similarity')\n",
    "plt.ylabel('Count')\n",
    "#plt.title('Presentation-Session Similarity\\n(Original Conference Oral Sessions)')\n",
    "plt.legend()\n",
    "\n",
    "plt.show()"
   ]
  },
  {
   "cell_type": "markdown",
   "metadata": {},
   "source": [
    "### Plot Session Similarity"
   ]
  },
  {
   "cell_type": "code",
   "execution_count": 32,
   "metadata": {},
   "outputs": [
    {
     "name": "stdout",
     "output_type": "stream",
     "text": [
      "bins: 35\n"
     ]
    },
    {
     "data": {
      "image/png": "[encoded data removed]",
      "text/plain": [
       "<Figure size 600x300 with 1 Axes>"
      ]
     },
     "metadata": {},
     "output_type": "display_data"
    }
   ],
   "source": [
    "import matplotlib.pyplot as plt\n",
    "import numpy as np\n",
    "# Printing Uniform Histogram Charts\n",
    "min_hist = 0.55\n",
    "max_hist = 0.90\n",
    "bin_width = 0.01\n",
    "bin_num = int((max_hist-min_hist)/bin_width)\n",
    "print(f\"bins: {bin_num}\")\n",
    "orig_sessions = dict(zip(df_presentations_no_single['Original Session'], df_presentations_no_single['Session Similarity']))\n",
    "orig_sessions_val = list(orig_sessions.values())\n",
    "# Plot similarity distributions\n",
    "plt.figure(figsize=(6, 3))\n",
    "plt.hist(orig_sessions_val, bins=bin_num, range=(min_hist, max_hist), alpha=0.7,\n",
    "            #color='blue', \n",
    "            edgecolor='black')\n",
    "plt.axvline(x=np.mean(orig_sessions_val), color='r',\n",
    "            linestyle='--', label=f'Mean similarity={np.mean(orig_sessions_val):.2f}')\n",
    "plt.xlabel('Average Session Similarity')\n",
    "plt.ylabel('Count')\n",
    "#plt.title('Session Similarity\\n(Original Conference Oral Sessions)')\n",
    "plt.legend()\n",
    "\n",
    "plt.show()"
   ]
  },
  {
   "cell_type": "markdown",
   "metadata": {},
   "source": [
    "### View Sorted Tables of Sessions"
   ]
  },
  {
   "cell_type": "code",
   "execution_count": 33,
   "metadata": {},
   "outputs": [
    {
     "name": "stdout",
     "output_type": "stream",
     "text": [
      "Most Similar Sessions\n",
      "                                     Original Session  Session Similarity  \\\n",
      "55  330 Monitoring Standards: Applications, Method...            0.860937   \n",
      "89  235 Recent Developments in Crop Protection Pro...            0.838184   \n",
      "0   242 Understanding the Agro-Hydrologic Effects ...            0.814872   \n",
      "34   213 Machinery Systems Data and Task Optimization            0.811075   \n",
      "71  332 Measurement, Mitigation and Modeling of Ai...            0.802929   \n",
      "\n",
      "    Session Std Dev  \n",
      "55         0.000000  \n",
      "89         0.020569  \n",
      "0          0.026573  \n",
      "34         0.038518  \n",
      "71         0.013588  \n",
      "Least Similar Sessions\n",
      "                                     Original Session  Session Similarity  \\\n",
      "95  206 Digital Twins, DEM, and CFD Applications i...            0.676997   \n",
      "57  118 Agri-Industrial Facility Design and Operation            0.675718   \n",
      "29  122 Physical and Chemical Properties of Food, ...            0.673748   \n",
      "30                       318 Food Process Engineering            0.644089   \n",
      "52  228 Analytical, Computational and Instrumentat...            0.640503   \n",
      "98  301 The Opportunities for Collaboration betwee...            0.000000   \n",
      "\n",
      "    Session Std Dev  \n",
      "95         0.030198  \n",
      "57         0.018816  \n",
      "29         0.011954  \n",
      "30         0.024866  \n",
      "52         0.025341  \n",
      "98              NaN  \n"
     ]
    }
   ],
   "source": [
    "df_sorted = df_sessions.sort_values(by='Session Similarity', ascending=False)\n",
    "print(\"Most Similar Sessions\")\n",
    "print(df_sorted.head())\n",
    "print(\"Least Similar Sessions\")\n",
    "print(df_sorted.tail(6))"
   ]
  },
  {
   "cell_type": "markdown",
   "metadata": {},
   "source": [
    "Show the results for the session with more than 2 presentations and the highest similarity.\n",
    "Checking for 2 presentations by ensuring session standard deviation is greater than 0."
   ]
  },
  {
   "cell_type": "code",
   "execution_count": 34,
   "metadata": {},
   "outputs": [
    {
     "name": "stdout",
     "output_type": "stream",
     "text": [
      "Original Session      235 Recent Developments in Crop Protection Pro...\n",
      "Session Similarity                                             0.838184\n",
      "Session Std Dev                                                0.020569\n",
      "Name: 89, dtype: object\n"
     ]
    }
   ],
   "source": [
    "df_sorted = df_sessions[df_sessions['Session Std Dev']>0].sort_values(by='Session Similarity', ascending=False)\n",
    "session_to_plot = df_sorted.iloc[0]\n",
    "print(session_to_plot)"
   ]
  },
  {
   "cell_type": "code",
   "execution_count": 35,
   "metadata": {},
   "outputs": [
    {
     "name": "stdout",
     "output_type": "stream",
     "text": [
      "Session: 235 Recent Developments in Crop Protection Product and Fertilizer Unmanned Applications\n",
      "Session Similarity: 0.8381844758987427\n"
     ]
    },
    {
     "data": {
      "text/html": [
       "<div>\n",
       "<style scoped>\n",
       "    .dataframe tbody tr th:only-of-type {\n",
       "        vertical-align: middle;\n",
       "    }\n",
       "\n",
       "    .dataframe tbody tr th {\n",
       "        vertical-align: top;\n",
       "    }\n",
       "\n",
       "    .dataframe thead th {\n",
       "        text-align: right;\n",
       "    }\n",
       "</style>\n",
       "<table border=\"1\" class=\"dataframe\">\n",
       "  <thead>\n",
       "    <tr style=\"text-align: right;\">\n",
       "      <th></th>\n",
       "      <th>Title</th>\n",
       "      <th>Presentation-Session Similarity</th>\n",
       "    </tr>\n",
       "  </thead>\n",
       "  <tbody>\n",
       "    <tr>\n",
       "      <th>327</th>\n",
       "      <td>UAS Sprayer Pattern Evaluation Under Different...</td>\n",
       "      <td>0.847507</td>\n",
       "    </tr>\n",
       "    <tr>\n",
       "      <th>457</th>\n",
       "      <td>Determination of canopy characteristics of orn...</td>\n",
       "      <td>0.814024</td>\n",
       "    </tr>\n",
       "    <tr>\n",
       "      <th>467</th>\n",
       "      <td>Spray Deposition and In-Swath Uniformity of Un...</td>\n",
       "      <td>0.862583</td>\n",
       "    </tr>\n",
       "    <tr>\n",
       "      <th>501</th>\n",
       "      <td>Rate and Uniformity Assessment of Dry Material...</td>\n",
       "      <td>0.843520</td>\n",
       "    </tr>\n",
       "    <tr>\n",
       "      <th>505</th>\n",
       "      <td>An update on developing a prototype of intelli...</td>\n",
       "      <td>0.831831</td>\n",
       "    </tr>\n",
       "    <tr>\n",
       "      <th>535</th>\n",
       "      <td>Performance Evaluation of a Solar Energy Opera...</td>\n",
       "      <td>0.803649</td>\n",
       "    </tr>\n",
       "    <tr>\n",
       "      <th>635</th>\n",
       "      <td>Assessment of Spray Patterns and Efficiency of...</td>\n",
       "      <td>0.858123</td>\n",
       "    </tr>\n",
       "    <tr>\n",
       "      <th>1122</th>\n",
       "      <td>Design and Development of spraying system for ...</td>\n",
       "      <td>0.844238</td>\n",
       "    </tr>\n",
       "  </tbody>\n",
       "</table>\n",
       "</div>"
      ],
      "text/plain": [
       "                                                  Title  \\\n",
       "327   UAS Sprayer Pattern Evaluation Under Different...   \n",
       "457   Determination of canopy characteristics of orn...   \n",
       "467   Spray Deposition and In-Swath Uniformity of Un...   \n",
       "501   Rate and Uniformity Assessment of Dry Material...   \n",
       "505   An update on developing a prototype of intelli...   \n",
       "535   Performance Evaluation of a Solar Energy Opera...   \n",
       "635   Assessment of Spray Patterns and Efficiency of...   \n",
       "1122  Design and Development of spraying system for ...   \n",
       "\n",
       "      Presentation-Session Similarity  \n",
       "327                          0.847507  \n",
       "457                          0.814024  \n",
       "467                          0.862583  \n",
       "501                          0.843520  \n",
       "505                          0.831831  \n",
       "535                          0.803649  \n",
       "635                          0.858123  \n",
       "1122                         0.844238  "
      ]
     },
     "execution_count": 35,
     "metadata": {},
     "output_type": "execute_result"
    }
   ],
   "source": [
    "\n",
    "print(f\"Session: {session_to_plot['Original Session']}\")\n",
    "print(f\"Session Similarity: {session_to_plot['Session Similarity']}\")\n",
    "#print(f\"Session Similarity{df_sessions[]}\")\n",
    "df_presentations_no_single[df_presentations_no_single['Original Session']==session_to_plot['Original Session']][['Title', 'Presentation-Session Similarity']]"
   ]
  },
  {
   "cell_type": "markdown",
   "metadata": {},
   "source": [
    "The lowest session. The very lowest ranked session has a score of 0 since it had only one presentation, but that does not have a standard deviation."
   ]
  },
  {
   "cell_type": "code",
   "execution_count": 36,
   "metadata": {},
   "outputs": [
    {
     "name": "stdout",
     "output_type": "stream",
     "text": [
      "Original Session      228 Analytical, Computational and Instrumentat...\n",
      "Session Similarity                                             0.640503\n",
      "Session Std Dev                                                0.025341\n",
      "Name: 52, dtype: object\n"
     ]
    }
   ],
   "source": [
    "df_sorted = df_sessions[df_sessions['Session Std Dev']>0].sort_values(by='Session Similarity', ascending=False)\n",
    "session_to_plot = df_sorted.iloc[-1]\n",
    "print(session_to_plot)"
   ]
  },
  {
   "cell_type": "code",
   "execution_count": 37,
   "metadata": {},
   "outputs": [
    {
     "name": "stdout",
     "output_type": "stream",
     "text": [
      "Session: 228 Analytical, Computational and Instrumentation Advances for Biosensing\n",
      "Session Similarity: 0.6405032873153687\n"
     ]
    },
    {
     "data": {
      "text/html": [
       "<div>\n",
       "<style scoped>\n",
       "    .dataframe tbody tr th:only-of-type {\n",
       "        vertical-align: middle;\n",
       "    }\n",
       "\n",
       "    .dataframe tbody tr th {\n",
       "        vertical-align: top;\n",
       "    }\n",
       "\n",
       "    .dataframe thead th {\n",
       "        text-align: right;\n",
       "    }\n",
       "</style>\n",
       "<table border=\"1\" class=\"dataframe\">\n",
       "  <thead>\n",
       "    <tr style=\"text-align: right;\">\n",
       "      <th></th>\n",
       "      <th>Title</th>\n",
       "      <th>Presentation-Session Similarity</th>\n",
       "    </tr>\n",
       "  </thead>\n",
       "  <tbody>\n",
       "    <tr>\n",
       "      <th>690</th>\n",
       "      <td>A novel nitrogen oxide sensor for measurement ...</td>\n",
       "      <td>0.677785</td>\n",
       "    </tr>\n",
       "    <tr>\n",
       "      <th>103</th>\n",
       "      <td>Non-destructive Detection Method for Lamb Meat...</td>\n",
       "      <td>0.659259</td>\n",
       "    </tr>\n",
       "    <tr>\n",
       "      <th>794</th>\n",
       "      <td>High-Throughput Measurement of Maize Flexural ...</td>\n",
       "      <td>0.654711</td>\n",
       "    </tr>\n",
       "    <tr>\n",
       "      <th>1039</th>\n",
       "      <td>Enhancing SIF-based Prediction of Gross Primar...</td>\n",
       "      <td>0.648174</td>\n",
       "    </tr>\n",
       "    <tr>\n",
       "      <th>1051</th>\n",
       "      <td>Characteristics of Chlorophyll Fluorescence in...</td>\n",
       "      <td>0.642094</td>\n",
       "    </tr>\n",
       "    <tr>\n",
       "      <th>1160</th>\n",
       "      <td>Comparative analysis of localized vs. mesoscal...</td>\n",
       "      <td>0.623872</td>\n",
       "    </tr>\n",
       "    <tr>\n",
       "      <th>1014</th>\n",
       "      <td>Cellphone for bees</td>\n",
       "      <td>0.619953</td>\n",
       "    </tr>\n",
       "    <tr>\n",
       "      <th>1138</th>\n",
       "      <td>A simple microfluidic biosensor based on membr...</td>\n",
       "      <td>0.598179</td>\n",
       "    </tr>\n",
       "  </tbody>\n",
       "</table>\n",
       "</div>"
      ],
      "text/plain": [
       "                                                  Title  \\\n",
       "690   A novel nitrogen oxide sensor for measurement ...   \n",
       "103   Non-destructive Detection Method for Lamb Meat...   \n",
       "794   High-Throughput Measurement of Maize Flexural ...   \n",
       "1039  Enhancing SIF-based Prediction of Gross Primar...   \n",
       "1051  Characteristics of Chlorophyll Fluorescence in...   \n",
       "1160  Comparative analysis of localized vs. mesoscal...   \n",
       "1014                                 Cellphone for bees   \n",
       "1138  A simple microfluidic biosensor based on membr...   \n",
       "\n",
       "      Presentation-Session Similarity  \n",
       "690                          0.677785  \n",
       "103                          0.659259  \n",
       "794                          0.654711  \n",
       "1039                         0.648174  \n",
       "1051                         0.642094  \n",
       "1160                         0.623872  \n",
       "1014                         0.619953  \n",
       "1138                         0.598179  "
      ]
     },
     "execution_count": 37,
     "metadata": {},
     "output_type": "execute_result"
    }
   ],
   "source": [
    "print(f\"Session: {session_to_plot['Original Session']}\")\n",
    "print(f\"Session Similarity: {session_to_plot['Session Similarity']}\")\n",
    "#print(f\"Session Similarity{df_sessions[]}\")\n",
    "df_presentations_no_single[df_presentations_no_single['Original Session']==session_to_plot['Original Session']][['Title', 'Presentation-Session Similarity']].sort_values(by='Presentation-Session Similarity', ascending=False)"
   ]
  },
  {
   "cell_type": "markdown",
   "metadata": {},
   "source": [
    "#### Session with Greatest Standardized Deviation\n"
   ]
  },
  {
   "cell_type": "code",
   "execution_count": 38,
   "metadata": {},
   "outputs": [
    {
     "name": "stdout",
     "output_type": "stream",
     "text": [
      "Session: 230 Machine Vision for Precision Agriculture and Robotics-LIGHTNING TALKS\n",
      "Session Similarity: 0.7304843664169312\n",
      "Session Std Dev: 0.032856126199055924\n"
     ]
    },
    {
     "data": {
      "text/html": [
       "<div>\n",
       "<style scoped>\n",
       "    .dataframe tbody tr th:only-of-type {\n",
       "        vertical-align: middle;\n",
       "    }\n",
       "\n",
       "    .dataframe tbody tr th {\n",
       "        vertical-align: top;\n",
       "    }\n",
       "\n",
       "    .dataframe thead th {\n",
       "        text-align: right;\n",
       "    }\n",
       "</style>\n",
       "<table border=\"1\" class=\"dataframe\">\n",
       "  <thead>\n",
       "    <tr style=\"text-align: right;\">\n",
       "      <th></th>\n",
       "      <th>Title</th>\n",
       "      <th>Presentation-Session Similarity</th>\n",
       "      <th>Standardized Deviation</th>\n",
       "    </tr>\n",
       "  </thead>\n",
       "  <tbody>\n",
       "    <tr>\n",
       "      <th>542</th>\n",
       "      <td>The effect of different toys on the behavior a...</td>\n",
       "      <td>0.618908</td>\n",
       "      <td>-3.395901</td>\n",
       "    </tr>\n",
       "    <tr>\n",
       "      <th>443</th>\n",
       "      <td>Obstacle Perception for Korean Autonomous Trac...</td>\n",
       "      <td>0.704983</td>\n",
       "      <td>-0.776165</td>\n",
       "    </tr>\n",
       "    <tr>\n",
       "      <th>216</th>\n",
       "      <td>Evaluation of a machine-vision based estrus de...</td>\n",
       "      <td>0.709660</td>\n",
       "      <td>-0.633812</td>\n",
       "    </tr>\n",
       "    <tr>\n",
       "      <th>920</th>\n",
       "      <td>Unified Deep Learning Models for Strawberry Ma...</td>\n",
       "      <td>0.727895</td>\n",
       "      <td>-0.078803</td>\n",
       "    </tr>\n",
       "    <tr>\n",
       "      <th>1141</th>\n",
       "      <td>Multimodal Machine Learning for Comprehensive ...</td>\n",
       "      <td>0.735531</td>\n",
       "      <td>0.153595</td>\n",
       "    </tr>\n",
       "    <tr>\n",
       "      <th>1086</th>\n",
       "      <td>Enhancing Seeding Efficiency: Evaluating Row C...</td>\n",
       "      <td>0.736278</td>\n",
       "      <td>0.176322</td>\n",
       "    </tr>\n",
       "    <tr>\n",
       "      <th>1158</th>\n",
       "      <td>Quantized deep learning object detection model...</td>\n",
       "      <td>0.739138</td>\n",
       "      <td>0.263391</td>\n",
       "    </tr>\n",
       "    <tr>\n",
       "      <th>963</th>\n",
       "      <td>Using Boll Images and Numerical Data to Predic...</td>\n",
       "      <td>0.739209</td>\n",
       "      <td>0.265530</td>\n",
       "    </tr>\n",
       "    <tr>\n",
       "      <th>950</th>\n",
       "      <td>Semi-Supervised Panoptic Segmentation for Appl...</td>\n",
       "      <td>0.739447</td>\n",
       "      <td>0.272782</td>\n",
       "    </tr>\n",
       "    <tr>\n",
       "      <th>355</th>\n",
       "      <td>Automated Identification of Tomato Pests, Dise...</td>\n",
       "      <td>0.739926</td>\n",
       "      <td>0.287377</td>\n",
       "    </tr>\n",
       "    <tr>\n",
       "      <th>768</th>\n",
       "      <td>Integration of Depth Images and Deep Learning ...</td>\n",
       "      <td>0.742844</td>\n",
       "      <td>0.376167</td>\n",
       "    </tr>\n",
       "    <tr>\n",
       "      <th>1142</th>\n",
       "      <td>Enhancing Autonomy in Flex-Ro with UNL Farm Sc...</td>\n",
       "      <td>0.745730</td>\n",
       "      <td>0.463997</td>\n",
       "    </tr>\n",
       "    <tr>\n",
       "      <th>410</th>\n",
       "      <td>PeanutNeRF: Measuring Architectural Traits in ...</td>\n",
       "      <td>0.748183</td>\n",
       "      <td>0.538682</td>\n",
       "    </tr>\n",
       "    <tr>\n",
       "      <th>552</th>\n",
       "      <td>Enhanced Weed Detection Using YOLOv8 on Open-S...</td>\n",
       "      <td>0.751051</td>\n",
       "      <td>0.625972</td>\n",
       "    </tr>\n",
       "    <tr>\n",
       "      <th>969</th>\n",
       "      <td>ViLAD: Video-based Lettuce Association and Det...</td>\n",
       "      <td>0.754293</td>\n",
       "      <td>0.724641</td>\n",
       "    </tr>\n",
       "    <tr>\n",
       "      <th>319</th>\n",
       "      <td>CAM-based pose estimation for robotic harvesti...</td>\n",
       "      <td>0.754674</td>\n",
       "      <td>0.736222</td>\n",
       "    </tr>\n",
       "  </tbody>\n",
       "</table>\n",
       "</div>"
      ],
      "text/plain": [
       "                                                  Title  \\\n",
       "542   The effect of different toys on the behavior a...   \n",
       "443   Obstacle Perception for Korean Autonomous Trac...   \n",
       "216   Evaluation of a machine-vision based estrus de...   \n",
       "920   Unified Deep Learning Models for Strawberry Ma...   \n",
       "1141  Multimodal Machine Learning for Comprehensive ...   \n",
       "1086  Enhancing Seeding Efficiency: Evaluating Row C...   \n",
       "1158  Quantized deep learning object detection model...   \n",
       "963   Using Boll Images and Numerical Data to Predic...   \n",
       "950   Semi-Supervised Panoptic Segmentation for Appl...   \n",
       "355   Automated Identification of Tomato Pests, Dise...   \n",
       "768   Integration of Depth Images and Deep Learning ...   \n",
       "1142  Enhancing Autonomy in Flex-Ro with UNL Farm Sc...   \n",
       "410   PeanutNeRF: Measuring Architectural Traits in ...   \n",
       "552   Enhanced Weed Detection Using YOLOv8 on Open-S...   \n",
       "969   ViLAD: Video-based Lettuce Association and Det...   \n",
       "319   CAM-based pose estimation for robotic harvesti...   \n",
       "\n",
       "      Presentation-Session Similarity  Standardized Deviation  \n",
       "542                          0.618908               -3.395901  \n",
       "443                          0.704983               -0.776165  \n",
       "216                          0.709660               -0.633812  \n",
       "920                          0.727895               -0.078803  \n",
       "1141                         0.735531                0.153595  \n",
       "1086                         0.736278                0.176322  \n",
       "1158                         0.739138                0.263391  \n",
       "963                          0.739209                0.265530  \n",
       "950                          0.739447                0.272782  \n",
       "355                          0.739926                0.287377  \n",
       "768                          0.742844                0.376167  \n",
       "1142                         0.745730                0.463997  \n",
       "410                          0.748183                0.538682  \n",
       "552                          0.751051                0.625972  \n",
       "969                          0.754293                0.724641  \n",
       "319                          0.754674                0.736222  "
      ]
     },
     "execution_count": 38,
     "metadata": {},
     "output_type": "execute_result"
    }
   ],
   "source": [
    "df_sorted = df_presentations_no_single.sort_values(by='Standardized Deviation', ascending=True)\n",
    "pres_session_to_plot = df_sorted.iloc[0]\n",
    "print(f\"Session: {pres_session_to_plot['Original Session']}\")\n",
    "print(f\"Session Similarity: {pres_session_to_plot['Session Similarity']}\")\n",
    "print(f\"Session Std Dev: {pres_session_to_plot['Session Std Dev']}\")\n",
    "session_to_plot = df_presentations_no_single[df_presentations_no_single['Original Session']==pres_session_to_plot['Original Session']][['Title', 'Presentation-Session Similarity', 'Standardized Deviation']]\n",
    "session_to_plot.sort_values(by='Standardized Deviation', ascending=True)"
   ]
  },
  {
   "cell_type": "markdown",
   "metadata": {},
   "source": [
    "The above session is in a lightning round with many other presentations. Plotting the next worst outlier."
   ]
  },
  {
   "cell_type": "code",
   "execution_count": 39,
   "metadata": {},
   "outputs": [
    {
     "name": "stdout",
     "output_type": "stream",
     "text": [
      "Session: 115 Innovations in Crop Protection Product and Application Equipment Development\n",
      "Session Similarity: 0.7224329710006714\n",
      "Session Std Dev: 0.04198074339815315\n"
     ]
    },
    {
     "data": {
      "text/html": [
       "<div>\n",
       "<style scoped>\n",
       "    .dataframe tbody tr th:only-of-type {\n",
       "        vertical-align: middle;\n",
       "    }\n",
       "\n",
       "    .dataframe tbody tr th {\n",
       "        vertical-align: top;\n",
       "    }\n",
       "\n",
       "    .dataframe thead th {\n",
       "        text-align: right;\n",
       "    }\n",
       "</style>\n",
       "<table border=\"1\" class=\"dataframe\">\n",
       "  <thead>\n",
       "    <tr style=\"text-align: right;\">\n",
       "      <th></th>\n",
       "      <th>Title</th>\n",
       "      <th>Presentation-Session Similarity</th>\n",
       "      <th>Standardized Deviation</th>\n",
       "    </tr>\n",
       "  </thead>\n",
       "  <tbody>\n",
       "    <tr>\n",
       "      <th>494</th>\n",
       "      <td>Microwave Treatment Techniques for Managing We...</td>\n",
       "      <td>0.614390</td>\n",
       "      <td>-2.573636</td>\n",
       "    </tr>\n",
       "    <tr>\n",
       "      <th>335</th>\n",
       "      <td>Surface engineering of biobased microcarriers ...</td>\n",
       "      <td>0.702125</td>\n",
       "      <td>-0.483742</td>\n",
       "    </tr>\n",
       "    <tr>\n",
       "      <th>210</th>\n",
       "      <td>Turn Performance Analysis for a Self Propelled...</td>\n",
       "      <td>0.718776</td>\n",
       "      <td>-0.087111</td>\n",
       "    </tr>\n",
       "    <tr>\n",
       "      <th>393</th>\n",
       "      <td>Performance of hollow-cone nozzles coupled wit...</td>\n",
       "      <td>0.720646</td>\n",
       "      <td>-0.042560</td>\n",
       "    </tr>\n",
       "    <tr>\n",
       "      <th>750</th>\n",
       "      <td>Developing Next Generation Functional Anti-Dri...</td>\n",
       "      <td>0.729424</td>\n",
       "      <td>0.166528</td>\n",
       "    </tr>\n",
       "    <tr>\n",
       "      <th>60</th>\n",
       "      <td>Sensitivity Analysis of a Hydraulic Lift Arm S...</td>\n",
       "      <td>0.732880</td>\n",
       "      <td>0.248860</td>\n",
       "    </tr>\n",
       "    <tr>\n",
       "      <th>781</th>\n",
       "      <td>UPDATES AND CONTINUED DEVELOPMENT OF A HIGH RE...</td>\n",
       "      <td>0.743927</td>\n",
       "      <td>0.512003</td>\n",
       "    </tr>\n",
       "    <tr>\n",
       "      <th>392</th>\n",
       "      <td>Determining Spray Volume Rates for Apple Trees...</td>\n",
       "      <td>0.744516</td>\n",
       "      <td>0.526019</td>\n",
       "    </tr>\n",
       "    <tr>\n",
       "      <th>710</th>\n",
       "      <td>Selection of least-drifting spray nozzles for ...</td>\n",
       "      <td>0.757580</td>\n",
       "      <td>0.837217</td>\n",
       "    </tr>\n",
       "    <tr>\n",
       "      <th>28</th>\n",
       "      <td>Utilization of High Resolution Patternator Dat...</td>\n",
       "      <td>0.760065</td>\n",
       "      <td>0.896412</td>\n",
       "    </tr>\n",
       "  </tbody>\n",
       "</table>\n",
       "</div>"
      ],
      "text/plain": [
       "                                                 Title  \\\n",
       "494  Microwave Treatment Techniques for Managing We...   \n",
       "335  Surface engineering of biobased microcarriers ...   \n",
       "210  Turn Performance Analysis for a Self Propelled...   \n",
       "393  Performance of hollow-cone nozzles coupled wit...   \n",
       "750  Developing Next Generation Functional Anti-Dri...   \n",
       "60   Sensitivity Analysis of a Hydraulic Lift Arm S...   \n",
       "781  UPDATES AND CONTINUED DEVELOPMENT OF A HIGH RE...   \n",
       "392  Determining Spray Volume Rates for Apple Trees...   \n",
       "710  Selection of least-drifting spray nozzles for ...   \n",
       "28   Utilization of High Resolution Patternator Dat...   \n",
       "\n",
       "     Presentation-Session Similarity  Standardized Deviation  \n",
       "494                         0.614390               -2.573636  \n",
       "335                         0.702125               -0.483742  \n",
       "210                         0.718776               -0.087111  \n",
       "393                         0.720646               -0.042560  \n",
       "750                         0.729424                0.166528  \n",
       "60                          0.732880                0.248860  \n",
       "781                         0.743927                0.512003  \n",
       "392                         0.744516                0.526019  \n",
       "710                         0.757580                0.837217  \n",
       "28                          0.760065                0.896412  "
      ]
     },
     "execution_count": 39,
     "metadata": {},
     "output_type": "execute_result"
    }
   ],
   "source": [
    "df_sorted = df_presentations_no_single.sort_values(by='Standardized Deviation', ascending=True)\n",
    "pres_session_to_plot = df_sorted.iloc[1]\n",
    "print(f\"Session: {pres_session_to_plot['Original Session']}\")\n",
    "print(f\"Session Similarity: {pres_session_to_plot['Session Similarity']}\")\n",
    "print(f\"Session Std Dev: {pres_session_to_plot['Session Std Dev']}\")\n",
    "session_to_plot = df_presentations_no_single[df_presentations_no_single['Original Session']==pres_session_to_plot['Original Session']][['Title', 'Presentation-Session Similarity', 'Standardized Deviation']]\n",
    "session_to_plot.sort_values(by='Standardized Deviation', ascending=True)"
   ]
  },
  {
   "cell_type": "markdown",
   "metadata": {},
   "source": [
    "### Finding another home for a presentation\n",
    "In this session, one presentation \"Microwave Treatment Techniques...\" stands out as having a much larger standardized deviation. Perhaps there is a better home for this presentation in another session?\n",
    "Sort the list of presentations to find other similar presentations."
   ]
  },
  {
   "cell_type": "code",
   "execution_count": 40,
   "metadata": {},
   "outputs": [
    {
     "name": "stdout",
     "output_type": "stream",
     "text": [
      "Most Similar Presentations\n",
      "                                                  Title  \\\n",
      "493   Exploring the potential of microwave heating f...   \n",
      "385   Optimizing Radiofrequency Exposure Parameters ...   \n",
      "1008  Development and Evaluation of Directed Energy ...   \n",
      "212   Design and Evaluation of a Novel Band-Steam Ap...   \n",
      "449   DEVELOPMENT OF A REMOTELY CONTROLLED  SELF-PRO...   \n",
      "\n",
      "      Presentation-Session Similarity  \n",
      "493                          0.727243  \n",
      "385                          0.733761  \n",
      "1008                         0.718623  \n",
      "212                          0.678509  \n",
      "449                          0.783238  \n"
     ]
    }
   ],
   "source": [
    "print(\"Most Similar Presentations\")\n",
    "similar_presentations = df_similarity_no_single.loc[pres_session_to_plot.name].sort_values(ascending=False) # Create a Series with the  most similar presentations\n",
    "# Remove the selected presentation itself from the similar presentations\n",
    "similar_presentations = similar_presentations.drop(pres_session_to_plot.name)\n",
    "# Build the similarity dataframe. Add the similarity score and similarity rank to the dataframe and show it.\n",
    "similar_df = df_presentations_no_single.loc[similar_presentations.index]\n",
    "similar_df.insert(0, \"Similarity Score\", similar_presentations)\n",
    "similar_df.insert(0, \"Similarity Rank\", np.arange(1,similar_df.shape[0]+1))\n",
    "print(similar_df[['Title', 'Presentation-Session Similarity']].head())"
   ]
  },
  {
   "cell_type": "markdown",
   "metadata": {},
   "source": [
    "# Comparing Embedding Models\n",
    "These steps show the methods used to compare the models."
   ]
  },
  {
   "cell_type": "markdown",
   "metadata": {},
   "source": [
    "### Calculate time with embedding truncated to 256 tokens.\n",
    "Truncation Function:"
   ]
  },
  {
   "cell_type": "code",
   "execution_count": 41,
   "metadata": {},
   "outputs": [],
   "source": [
    "from sentence_transformers import SentenceTransformer\n",
    "from transformers import AutoTokenizer\n",
    "\n",
    "def truncate_texts(texts, max_length, model_name):\n",
    "    \"\"\"\n",
    "    Truncates a list of text strings to a maximum number of tokens using the \n",
    "    tokenizer associated with a SentenceTransformer model.\n",
    "\n",
    "    Args:\n",
    "      texts: A list of input text strings.\n",
    "      max_length: The maximum number of tokens allowed.\n",
    "      model_name: The name of the SentenceTransformer model.\n",
    "\n",
    "    Returns:\n",
    "      A list of truncated text strings.\n",
    "    \"\"\"\n",
    "    tokenizer = AutoTokenizer.from_pretrained(model_name)\n",
    "    truncated_texts = []\n",
    "    for text in texts:\n",
    "        tokens = tokenizer.tokenize(text)\n",
    "        truncated_tokens = tokens[:max_length]\n",
    "        truncated_text = tokenizer.convert_tokens_to_string(truncated_tokens)\n",
    "        truncated_texts.append(truncated_text)\n",
    "    return truncated_texts"
   ]
  },
  {
   "cell_type": "markdown",
   "metadata": {},
   "source": [
    "#### Create truncated inputs texts"
   ]
  },
  {
   "cell_type": "code",
   "execution_count": 42,
   "metadata": {},
   "outputs": [
    {
     "name": "stderr",
     "output_type": "stream",
     "text": [
      "Token indices sequence length is longer than the specified maximum sequence length for this model (730 > 512). Running this sequence through the model will result in indexing errors\n"
     ]
    }
   ],
   "source": [
    "max_tokens = 256\n",
    "\n",
    "mini_embeddings_model = SentenceTransformer('sentence-transformers/all-MiniLM-L6-v2', trust_remote_code=True) \n",
    "mini_truncated_text = truncate_texts(oral_topics, max_tokens, 'sentence-transformers/all-MiniLM-L6-v2')"
   ]
  },
  {
   "cell_type": "markdown",
   "metadata": {},
   "source": [
    "#### First Confirm Truncation and Tokenizers are the same between models"
   ]
  },
  {
   "cell_type": "markdown",
   "metadata": {},
   "source": [
    "Tokenziers produce the same result:"
   ]
  },
  {
   "cell_type": "code",
   "execution_count": 43,
   "metadata": {},
   "outputs": [
    {
     "name": "stderr",
     "output_type": "stream",
     "text": [
      "<All keys matched successfully>\n"
     ]
    },
    {
     "name": "stdout",
     "output_type": "stream",
     "text": [
      "Tokenziers produce the same result:True\n"
     ]
    }
   ],
   "source": [
    "model = SentenceTransformer(\"nomic-ai/nomic-embed-text-v1.5\", trust_remote_code=True) \n",
    "nomic_truncated_text = truncate_texts(oral_topics, max_tokens, \"nomic-ai/nomic-embed-text-v1.5\")\n",
    "# Are they the same?\n",
    "print(f\"Tokenziers produce the same result:{mini_truncated_text == nomic_truncated_text}\")"
   ]
  },
  {
   "cell_type": "markdown",
   "metadata": {},
   "source": [
    "Since the maximum token length of all-MiniLM-L6-v2 was 256, truncating the input strings to 256 tokens should not result in any change to the embeddings."
   ]
  },
  {
   "cell_type": "code",
   "execution_count": 44,
   "metadata": {},
   "outputs": [
    {
     "name": "stdout",
     "output_type": "stream",
     "text": [
      "Encoding time: 19.7935 seconds\n",
      "Truncated embeddings the same? True\n"
     ]
    }
   ],
   "source": [
    "import time\n",
    "import numpy as np\n",
    "start_time = time.time()\n",
    "mini_truncated_embeddings = mini_embeddings_model.encode(mini_truncated_text)\n",
    "end_time = time.time()\n",
    "mini_trunc_elapsed_time = end_time - start_time\n",
    "print(f\"Encoding time: {mini_trunc_elapsed_time:.4f} seconds\")\n",
    "#Compare\n",
    "print(f\"Truncated embeddings the same? {np.array_equal(mini_embeddings, mini_truncated_embeddings)}\")\n",
    "mini_truncated_similarities = mini_embeddings_model.similarity(mini_truncated_embeddings, mini_truncated_embeddings)"
   ]
  },
  {
   "cell_type": "markdown",
   "metadata": {},
   "source": [
    "### Embed truncated texts"
   ]
  },
  {
   "cell_type": "code",
   "execution_count": 45,
   "metadata": {},
   "outputs": [
    {
     "name": "stdout",
     "output_type": "stream",
     "text": [
      "Titles Embedded: 810, Length of Vectors: 768\n",
      "Encoding time: 154.6471 seconds\n"
     ]
    }
   ],
   "source": [
    "# Calculate mpnet embeddings\n",
    "mpnet_embeddings_model = SentenceTransformer('sentence-transformers/all-mpnet-base-v2', trust_remote_code=True) \n",
    "start_time = time.time()\n",
    "mpnet_truncated_embeddings = mpnet_embeddings_model.encode(mini_truncated_text)\n",
    "end_time = time.time()\n",
    "mpnet_trunc_elapsed_time = end_time - start_time\n",
    "print(f\"Titles Embedded: {len(mpnet_truncated_embeddings)}, Length of Vectors: {len(mpnet_truncated_embeddings[0])}\")\n",
    "print(f\"Encoding time: {mpnet_trunc_elapsed_time:.4f} seconds\")\n",
    "mpnet_truncated_similarities = mpnet_embeddings_model.similarity(mpnet_truncated_embeddings, mpnet_truncated_embeddings)"
   ]
  },
  {
   "cell_type": "code",
   "execution_count": 46,
   "metadata": {},
   "outputs": [
    {
     "name": "stderr",
     "output_type": "stream",
     "text": [
      "C:\\Users\\jdv223\\.cache\\huggingface\\modules\\transformers_modules\\nomic-ai\\nomic-bert-2048\\40b98394640e630d5276807046089b233113aa87\\modeling_hf_nomic_bert.py:108: FutureWarning: You are using `torch.load` with `weights_only=False` (the current default value), which uses the default pickle module implicitly. It is possible to construct malicious pickle data which will execute arbitrary code during unpickling (See https://github.com/pytorch/pytorch/blob/main/SECURITY.md#untrusted-models for more details). In a future release, the default value for `weights_only` will be flipped to `True`. This limits the functions that could be executed during unpickling. Arbitrary objects will no longer be allowed to be loaded via this mode unless they are explicitly allowlisted by the user via `torch.serialization.add_safe_globals`. We recommend you start setting `weights_only=True` for any use case where you don't have full control of the loaded file. Please open an issue on GitHub for any issues related to this experimental feature.\n",
      "  state_dict = loader(resolved_archive_file)\n",
      "<All keys matched successfully>\n",
      "<All keys matched successfully>\n"
     ]
    },
    {
     "name": "stdout",
     "output_type": "stream",
     "text": [
      "Disabled 37 dropout modules from model type <class 'transformers_modules.jxm.cde-small-v1.    .model.BiEncoder'>\n",
      "modified 12 rotary modules – set rotary_start_pos to 512\n",
      "Disabled 74 dropout modules from model type <class 'transformers_modules.jxm.cde-small-v1.    .model.DatasetTransformer'>\n",
      "Dataset Encoding time: 112.3868 seconds\n",
      "Titles Embedded: 810, Length of Vectors: 768\n",
      "Document Encoding time: 566.9941 seconds\n",
      "Total Encoding time: 679.3810 seconds\n"
     ]
    }
   ],
   "source": [
    "# Calculate cde embeddings\n",
    "# Line below should be uncommented to run. It must be commented out for Git commit as its output is interpreted as containing a secret. \n",
    "# cde_embeddings_model = SentenceTransformer('jxm/cde-small-v1', trust_remote_code=True)\n",
    "import random\n",
    "minicorpus_size = cde_embeddings_model[0].config.transductive_corpus_size\n",
    "minicorpus_docs = random.sample(mini_truncated_text, k=minicorpus_size) # Put some strings here that are representative of your corpus, for example by calling random.sample(corpus, k=minicorpus_size)\n",
    "assert len(minicorpus_docs) == minicorpus_size # You must use exactly this many documents in the minicorpus. You can oversample if your corpus is smaller.\n",
    "start_time = time.time()\n",
    "dataset_embeddings = cde_embeddings_model.encode(\n",
    "    minicorpus_docs,\n",
    "    prompt_name=\"document\",\n",
    "    convert_to_tensor=True\n",
    ")\n",
    "end_time = time.time()\n",
    "cde_dataset_trunc_elapsed_time = end_time - start_time\n",
    "print(f\"Dataset Encoding time: {cde_dataset_trunc_elapsed_time:.4f} seconds\")\n",
    "\n",
    "start_time = time.time()\n",
    "cde_truncated_embeddings = cde_embeddings_model.encode(\n",
    "    mini_truncated_text,\n",
    "    prompt_name=\"document\",\n",
    "    dataset_embeddings=dataset_embeddings,\n",
    "    convert_to_tensor=True,\n",
    ")\n",
    "end_time = time.time()\n",
    "\n",
    "cde_doc_trunc_elapsed_time = end_time - start_time\n",
    "print(f\"Titles Embedded: {len(cde_truncated_embeddings)}, Length of Vectors: {len(cde_truncated_embeddings[0])}\")\n",
    "print(f\"Document Encoding time: {cde_doc_trunc_elapsed_time:.4f} seconds\")\n",
    "cde_trunc_elapsed_time = cde_doc_trunc_elapsed_time+cde_dataset_trunc_elapsed_time\n",
    "print(f\"Total Encoding time: {(cde_doc_trunc_elapsed_time+cde_dataset_trunc_elapsed_time):.4f} seconds\")\n",
    "cde_truncated_similarities = cde_embeddings_model.similarity(cde_truncated_embeddings, cde_truncated_embeddings)"
   ]
  },
  {
   "cell_type": "code",
   "execution_count": 47,
   "metadata": {},
   "outputs": [
    {
     "name": "stdout",
     "output_type": "stream",
     "text": [
      "local\n",
      "Titles Embedded: 810, Length of Vectors: 768\n",
      "Encoding time: 829.2449 seconds\n"
     ]
    },
    {
     "name": "stderr",
     "output_type": "stream",
     "text": [
      "<All keys matched successfully>\n"
     ]
    }
   ],
   "source": [
    "# Embed the documents\n",
    "import time\n",
    "from nomic import embed\n",
    "start_time = time.time()\n",
    "output = embed.text(\n",
    "    texts=mini_truncated_text,\n",
    "    model='nomic-embed-text-v1.5',\n",
    "    task_type='clustering',\n",
    "    inference_mode='local',\n",
    ")\n",
    "\n",
    "mode = output['inference_mode']  # 'local'\n",
    "print(mode)\n",
    "nomic_truncated_embeddings = output['embeddings']\n",
    "end_time = time.time()\n",
    "nomic_trunc_elapsed_time = end_time - start_time\n",
    "print(f\"Titles Embedded: {len(nomic_truncated_embeddings)}, Length of Vectors: {len(nomic_truncated_embeddings[0])}\")\n",
    "print(f\"Encoding time: {nomic_trunc_elapsed_time:.4f} seconds\")\n",
    "\n",
    "nomic_model = SentenceTransformer(\"nomic-ai/nomic-embed-text-v1.5\", trust_remote_code=True)\n",
    "nomic_truncated_similarities = nomic_model.similarity(nomic_truncated_embeddings, nomic_truncated_embeddings)\n"
   ]
  },
  {
   "cell_type": "markdown",
   "metadata": {},
   "source": [
    "### Save the truncated embeddings"
   ]
  },
  {
   "cell_type": "code",
   "execution_count": 48,
   "metadata": {},
   "outputs": [],
   "source": [
    "import torch\n",
    "import pickle\n",
    "# Save the embeddings to files\n",
    "with open('oral mini truncated_embeddings.pkl', 'wb') as file:\n",
    "    pickle.dump(mini_truncated_embeddings, file)\n",
    "with open('oral mpnet truncated_embeddings.pkl', 'wb') as file:\n",
    "    pickle.dump(mpnet_truncated_embeddings, file)\n",
    "with open('oral cde truncated_embeddings.pkl', 'wb') as file:\n",
    "    pickle.dump(cde_truncated_embeddings, file)\n",
    "with open('oral nomic truncated_embeddings.pkl', 'wb') as file:\n",
    "    pickle.dump(nomic_truncated_embeddings, file)\n",
    "# Save the truncated similarities\n",
    "torch.save(mini_truncated_similarities, 'oral mini truncated similarities.pt')\n",
    "torch.save(mpnet_truncated_similarities, 'oral mpnet truncated similarities.pt')\n",
    "torch.save(cde_truncated_similarities, 'oral cde truncated similarities.pt')\n",
    "torch.save(nomic_truncated_similarities, 'oral nomic truncated similarities.pt')"
   ]
  },
  {
   "cell_type": "markdown",
   "metadata": {},
   "source": [
    "## Load Truncated Embeddings and Similarities\n",
    "Load the Truncated Embeddings"
   ]
  },
  {
   "cell_type": "code",
   "execution_count": null,
   "metadata": {},
   "outputs": [],
   "source": [
    "\n",
    "import torch\n",
    "import pickle\n",
    "import numpy as np\n",
    "import pandas as pd\n",
    "\n",
    "# Load the embeddings from files\n",
    "with open('oral mini truncated_embeddings.pkl', 'rb') as file:\n",
    "    mini_truncated_embeddings = pickle.load(file)\n",
    "with open('oral mpnet truncated_embeddings.pkl', 'rb') as file:\n",
    "    mpnet_truncated_embeddings = pickle.load(file)\n",
    "with open('oral cde truncated_embeddings.pkl', 'rb') as file:\n",
    "    cde_truncated_embeddings = pickle.load(file)\n",
    "with open('oral nomic truncated_embeddings.pkl', 'rb') as file:\n",
    "    nomic_truncated_embeddings = pickle.load(file)\n"
   ]
  },
  {
   "cell_type": "markdown",
   "metadata": {},
   "source": [
    "##### Load the Truncated Similarity Tensors"
   ]
  },
  {
   "cell_type": "code",
   "execution_count": null,
   "metadata": {},
   "outputs": [],
   "source": [
    "mini_truncated_similarities = torch.load('oral mini truncated similarities.pt', weights_only=False)\n",
    "mpnet_truncated_similarities = torch.load('oral mpnet truncated similarities.pt', weights_only=False)\n",
    "cde_truncated_similarities = torch.load('oral cde truncated similarities.pt', weights_only=False)\n",
    "nomic_truncated_similarities = torch.load('oral nomic truncated similarities.pt', weights_only=False)"
   ]
  },
  {
   "cell_type": "markdown",
   "metadata": {},
   "source": [
    "#### Save the Embedding Model Results"
   ]
  },
  {
   "cell_type": "code",
   "execution_count": 49,
   "metadata": {},
   "outputs": [
    {
     "name": "stderr",
     "output_type": "stream",
     "text": [
      "<All keys matched successfully>\n"
     ]
    }
   ],
   "source": [
    "mini_tokenizer = mini_embeddings_model.tokenizer\n",
    "mini_max_length = mini_tokenizer.model_max_length\n",
    "mpnet_tokenizer = mpnet_embeddings_model.tokenizer\n",
    "mpnet_max_length = mpnet_tokenizer.model_max_length\n",
    "cde_tokenizer = cde_embeddings_model.tokenizer\n",
    "cde_max_length = cde_tokenizer.model_max_length\n",
    "nomic_embeddings_model = SentenceTransformer(\"nomic-ai/nomic-embed-text-v1.5\", trust_remote_code=True)\n",
    "nomic_tokenizer = nomic_embeddings_model.tokenizer\n",
    "nomic_max_length = nomic_tokenizer.model_max_length\n",
    "\n",
    "mini_dict = {'token_length': mini_max_length, \n",
    "             'name': mini_embeddings_model.model_card_data.base_model,\n",
    "             'time':mini_elapsed_time,\n",
    "             'truncated time':mini_trunc_elapsed_time}\n",
    "mpnet_dict = {'token_length': mpnet_max_length, \n",
    "              'name': mpnet_embeddings_model.model_card_data.base_model,\n",
    "              'time':mpnet_elapsed_time,\n",
    "              'truncated time':mpnet_trunc_elapsed_time}\n",
    "cde_dict = {'token_length': cde_max_length, \n",
    "            'name': cde_embeddings_model.model_card_data.base_model,\n",
    "            'time':cde_elapsed_time, \n",
    "            'dataset time ': cde_dataset_elapsed_time, \n",
    "            'doc time ': cde_doc_elapsed_time,\n",
    "            'truncated time':cde_trunc_elapsed_time,\n",
    "            'truncated dataset time':cde_dataset_trunc_elapsed_time,\n",
    "            'truncated doc time':cde_doc_trunc_elapsed_time}\n",
    "nomic_dict = {'token_length': nomic_max_length, \n",
    "              'name': nomic_embeddings_model.model_card_data.base_model,\n",
    "              'time':nomic_elapsed_time,\n",
    "              'truncated time':nomic_trunc_elapsed_time}\n",
    "\n",
    "models_list = [mini_dict, mpnet_dict, cde_dict, nomic_dict]\n",
    "\n",
    "import pickle\n",
    "# Save the result to file\n",
    "with open('models list.pkl', 'wb') as file:\n",
    "    pickle.dump(models_list, file)"
   ]
  },
  {
   "cell_type": "markdown",
   "metadata": {},
   "source": [
    "## Similarity Correlation"
   ]
  },
  {
   "cell_type": "markdown",
   "metadata": {},
   "source": [
    "Similarities with the full inputs:"
   ]
  },
  {
   "cell_type": "code",
   "execution_count": 50,
   "metadata": {},
   "outputs": [
    {
     "name": "stdout",
     "output_type": "stream",
     "text": [
      "                       nomic-embed-text-v1.5  cde-small-v1  all-mpnet-base-v2  \\\n",
      "nomic-embed-text-v1.5               1.000000      0.850277           0.866077   \n",
      "cde-small-v1                        0.850277      1.000000           0.837792   \n",
      "all-mpnet-base-v2                   0.866077      0.837792           1.000000   \n",
      "all-MiniLM-L6-v2                    0.826049      0.792794           0.878327   \n",
      "\n",
      "                       all-MiniLM-L6-v2  \n",
      "nomic-embed-text-v1.5          0.826049  \n",
      "cde-small-v1                   0.792794  \n",
      "all-mpnet-base-v2              0.878327  \n",
      "all-MiniLM-L6-v2               1.000000  \n"
     ]
    }
   ],
   "source": [
    "import pandas as pd\n",
    "\n",
    "# Create a dictionary where keys are column names and values are flattened arrays\n",
    "data = {\n",
    "    'nomic-embed-text-v1.5': nomic_similarities.flatten(),\n",
    "    'cde-small-v1': cde_similarities.flatten(),\n",
    "    'all-mpnet-base-v2': mpnet_similarities.flatten(),\n",
    "    'all-MiniLM-L6-v2': mini_similarities.flatten(),\n",
    "}\n",
    "\n",
    "# Create the DataFrame directly from the dictionary\n",
    "flat_sim = pd.DataFrame(data)\n",
    "correlation_matrix_full = flat_sim.corr()\n",
    "print(correlation_matrix_full)\n",
    "\n"
   ]
  },
  {
   "cell_type": "markdown",
   "metadata": {},
   "source": [
    "Similarities with input tokens truncated to 256:"
   ]
  },
  {
   "cell_type": "code",
   "execution_count": 51,
   "metadata": {},
   "outputs": [
    {
     "name": "stdout",
     "output_type": "stream",
     "text": [
      "                                 nomic-embed-text-v1.5 truncated  \\\n",
      "nomic-embed-text-v1.5 truncated                         1.000000   \n",
      "cde-small-v1 truncated                                  0.836752   \n",
      "all-mpnet-base-v2 truncated                             0.862697   \n",
      "all-MiniLM-L6-v2 truncated                              0.830376   \n",
      "\n",
      "                                 cde-small-v1 truncated  \\\n",
      "nomic-embed-text-v1.5 truncated                0.836752   \n",
      "cde-small-v1 truncated                         1.000000   \n",
      "all-mpnet-base-v2 truncated                    0.826952   \n",
      "all-MiniLM-L6-v2 truncated                     0.792837   \n",
      "\n",
      "                                 all-mpnet-base-v2 truncated  \\\n",
      "nomic-embed-text-v1.5 truncated                     0.862697   \n",
      "cde-small-v1 truncated                              0.826952   \n",
      "all-mpnet-base-v2 truncated                         1.000000   \n",
      "all-MiniLM-L6-v2 truncated                          0.887056   \n",
      "\n",
      "                                 all-MiniLM-L6-v2 truncated  \n",
      "nomic-embed-text-v1.5 truncated                    0.830376  \n",
      "cde-small-v1 truncated                             0.792837  \n",
      "all-mpnet-base-v2 truncated                        0.887056  \n",
      "all-MiniLM-L6-v2 truncated                         1.000000  \n"
     ]
    }
   ],
   "source": [
    "import pandas as pd\n",
    "\n",
    "# Create a dictionary where keys are column names and values are flattened arrays\n",
    "data = {\n",
    "    'nomic-embed-text-v1.5 truncated': nomic_truncated_similarities.flatten(),\n",
    "    'cde-small-v1 truncated': cde_truncated_similarities.flatten(),\n",
    "    'all-mpnet-base-v2 truncated': mpnet_truncated_similarities.flatten(),\n",
    "    'all-MiniLM-L6-v2 truncated': mini_truncated_similarities.flatten(),\n",
    "}\n",
    "\n",
    "# Create the DataFrame directly from the dictionary\n",
    "flat_sim_trun = pd.DataFrame(data)\n",
    "correlation_matrix_truncated = flat_sim_trun.corr()\n",
    "print(correlation_matrix_truncated)"
   ]
  },
  {
   "cell_type": "markdown",
   "metadata": {},
   "source": [
    "Comparing all Similarities (Full and Truncated)"
   ]
  },
  {
   "cell_type": "code",
   "execution_count": 52,
   "metadata": {},
   "outputs": [
    {
     "name": "stdout",
     "output_type": "stream",
     "text": [
      "                                 nomic-embed-text-v1.5  \\\n",
      "nomic-embed-text-v1.5                         1.000000   \n",
      "nomic-embed-text-v1.5 truncated               0.981271   \n",
      "cde-small-v1                                  0.850277   \n",
      "cde-small-v1 truncated                        0.832908   \n",
      "all-mpnet-base-v2                             0.866077   \n",
      "all-mpnet-base-v2 truncated                   0.861018   \n",
      "all-MiniLM-L6-v2                              0.826049   \n",
      "all-MiniLM-L6-v2 truncated                    0.826049   \n",
      "\n",
      "                                 nomic-embed-text-v1.5 truncated  \\\n",
      "nomic-embed-text-v1.5                                   0.981271   \n",
      "nomic-embed-text-v1.5 truncated                         1.000000   \n",
      "cde-small-v1                                            0.834649   \n",
      "cde-small-v1 truncated                                  0.836752   \n",
      "all-mpnet-base-v2                                       0.853862   \n",
      "all-mpnet-base-v2 truncated                             0.862697   \n",
      "all-MiniLM-L6-v2                                        0.830376   \n",
      "all-MiniLM-L6-v2 truncated                              0.830376   \n",
      "\n",
      "                                 cde-small-v1  cde-small-v1 truncated  \\\n",
      "nomic-embed-text-v1.5                0.850277                0.832908   \n",
      "nomic-embed-text-v1.5 truncated      0.834649                0.836752   \n",
      "cde-small-v1                         1.000000                0.959513   \n",
      "cde-small-v1 truncated               0.959513                1.000000   \n",
      "all-mpnet-base-v2                    0.837792                0.818556   \n",
      "all-mpnet-base-v2 truncated          0.833536                0.826952   \n",
      "all-MiniLM-L6-v2                     0.792794                0.792837   \n",
      "all-MiniLM-L6-v2 truncated           0.792794                0.792837   \n",
      "\n",
      "                                 all-mpnet-base-v2  \\\n",
      "nomic-embed-text-v1.5                     0.866077   \n",
      "nomic-embed-text-v1.5 truncated           0.853862   \n",
      "cde-small-v1                              0.837792   \n",
      "cde-small-v1 truncated                    0.818556   \n",
      "all-mpnet-base-v2                         1.000000   \n",
      "all-mpnet-base-v2 truncated               0.987304   \n",
      "all-MiniLM-L6-v2                          0.878327   \n",
      "all-MiniLM-L6-v2 truncated                0.878327   \n",
      "\n",
      "                                 all-mpnet-base-v2 truncated  \\\n",
      "nomic-embed-text-v1.5                               0.861018   \n",
      "nomic-embed-text-v1.5 truncated                     0.862697   \n",
      "cde-small-v1                                        0.833536   \n",
      "cde-small-v1 truncated                              0.826952   \n",
      "all-mpnet-base-v2                                   0.987304   \n",
      "all-mpnet-base-v2 truncated                         1.000000   \n",
      "all-MiniLM-L6-v2                                    0.887056   \n",
      "all-MiniLM-L6-v2 truncated                          0.887056   \n",
      "\n",
      "                                 all-MiniLM-L6-v2  all-MiniLM-L6-v2 truncated  \n",
      "nomic-embed-text-v1.5                    0.826049                    0.826049  \n",
      "nomic-embed-text-v1.5 truncated          0.830376                    0.830376  \n",
      "cde-small-v1                             0.792794                    0.792794  \n",
      "cde-small-v1 truncated                   0.792837                    0.792837  \n",
      "all-mpnet-base-v2                        0.878327                    0.878327  \n",
      "all-mpnet-base-v2 truncated              0.887056                    0.887056  \n",
      "all-MiniLM-L6-v2                         1.000000                    1.000000  \n",
      "all-MiniLM-L6-v2 truncated               1.000000                    1.000000  \n"
     ]
    }
   ],
   "source": [
    "import pandas as pd\n",
    "\n",
    "# Create a dictionary where keys are column names and values are flattened arrays\n",
    "data = {\n",
    "    'nomic-embed-text-v1.5': nomic_similarities.flatten(),\n",
    "    'nomic-embed-text-v1.5 truncated': nomic_truncated_similarities.flatten(),\n",
    "    'cde-small-v1': cde_similarities.flatten(),\n",
    "    'cde-small-v1 truncated': cde_truncated_similarities.flatten(),\n",
    "    'all-mpnet-base-v2': mpnet_similarities.flatten(),\n",
    "    'all-mpnet-base-v2 truncated': mpnet_truncated_similarities.flatten(),\n",
    "    'all-MiniLM-L6-v2': mini_similarities.flatten(),\n",
    "    'all-MiniLM-L6-v2 truncated': mini_truncated_similarities.flatten(),\n",
    "}\n",
    "\n",
    "# Create the DataFrame directly from the dictionary\n",
    "flat_all_sim = pd.DataFrame(data)\n",
    "correlation_matrix_all = flat_all_sim.corr()\n",
    "print(correlation_matrix_all)"
   ]
  },
  {
   "cell_type": "markdown",
   "metadata": {},
   "source": [
    "## Session Similarity Lists by Embedding Model\n",
    "Display the 5 most similar and the 5 least similar sessions by embedding model.\n",
    "First, a function sort the sessions."
   ]
  },
  {
   "cell_type": "code",
   "execution_count": 53,
   "metadata": {},
   "outputs": [],
   "source": [
    "import numpy as np\n",
    "\n",
    "def sessions_by_similarity(df_similarity, df_presentations):\n",
    "    \"\"\"\n",
    "    Calculates session similarity metrics and sorts sessions by their overall similarity.\n",
    "\n",
    "    Args:\n",
    "        df_similarity: DataFrame containing the pairwise similarity between presentations.\n",
    "        df_presentations: DataFrame with presentation information, including 'Original Session' column.\n",
    "\n",
    "    Returns:\n",
    "        DataFrame: Sorted DataFrame with session information and similarity metrics.\n",
    "    \"\"\"\n",
    "    \n",
    "    pres_session_similarity, session_similarity = calculate_cluster_similarities(\n",
    "        df_similarity.to_numpy(), np.array(df_presentations['Original Session'])\n",
    "    )\n",
    "    df_presentations['Presentation-Session Similarity'] = pres_session_similarity\n",
    "    df_presentations['Session Similarity'] = df_presentations['Original Session'].map(session_similarity)\n",
    "\n",
    "    # Calculate standard deviation for each 'Original Session'\n",
    "    df_presentations['Session Std Dev'] = df_presentations.groupby('Original Session')['Presentation-Session Similarity'].transform('std')\n",
    "    # Calculate deviation from the mean\n",
    "    df_presentations['Raw Deviation'] = df_presentations['Presentation-Session Similarity'] - df_presentations['Session Similarity']\n",
    "    # Calculate standardized deviation\n",
    "    df_presentations['Standardized Deviation'] = df_presentations['Raw Deviation'] / df_presentations['Session Std Dev']\n",
    "\n",
    "    # Create the Sessions DataFrame\n",
    "    df_sessions = df_presentations[['Original Session', 'Session Similarity', 'Session Std Dev']].copy()\n",
    "    # Drop duplicate rows, keeping only the first instance, then reindex.\n",
    "    df_sessions.drop_duplicates(subset=['Original Session'], keep='first', inplace=True)\n",
    "    df_sessions = df_sessions.reset_index(drop=True)\n",
    "\n",
    "    df_sorted = df_sessions.sort_values(by='Session Similarity', ascending=False)\n",
    "    return df_sorted"
   ]
  },
  {
   "cell_type": "markdown",
   "metadata": {},
   "source": [
    "### all-MiniLM-L6-v2 "
   ]
  },
  {
   "cell_type": "code",
   "execution_count": 54,
   "metadata": {},
   "outputs": [
    {
     "name": "stdout",
     "output_type": "stream",
     "text": [
      "Most Similar Sessions\n",
      "                                     Original Session  Session Similarity  \\\n",
      "55  330 Monitoring Standards: Applications, Method...            0.603709   \n",
      "3   215 Applications of Remote Sensing and UAVs in...            0.575766   \n",
      "0   242 Understanding the Agro-Hydrologic Effects ...            0.539714   \n",
      "46  329 Manure Anaerobic Digestion Systems and Biogas            0.535649   \n",
      "34   213 Machinery Systems Data and Task Optimization            0.530231   \n",
      "\n",
      "    Session Std Dev  \n",
      "55         0.000000  \n",
      "3          0.054709  \n",
      "0          0.057813  \n",
      "46         0.054782  \n",
      "34         0.072914  \n",
      "Least Similar Sessions\n",
      "                                     Original Session  Session Similarity  \\\n",
      "35  109 Agricultural Automation, Robotics, and Tec...            0.291099   \n",
      "30                       318 Food Process Engineering            0.272050   \n",
      "29  122 Physical and Chemical Properties of Food, ...            0.262596   \n",
      "31                        334 Food Safety Engineering            0.252692   \n",
      "52  228 Analytical, Computational and Instrumentat...            0.221100   \n",
      "98  301 The Opportunities for Collaboration betwee...            0.000000   \n",
      "\n",
      "    Session Std Dev  \n",
      "35         0.080101  \n",
      "30         0.043528  \n",
      "29         0.065418  \n",
      "31         0.035904  \n",
      "52         0.050976  \n",
      "98              NaN  \n"
     ]
    }
   ],
   "source": [
    "df_sorted_mini = sessions_by_similarity(df_similarity_mini, df_presentations)\n",
    "print(\"Most Similar Sessions\")\n",
    "print(df_sorted_mini.head())\n",
    "print(\"Least Similar Sessions\")\n",
    "print(df_sorted_mini.tail(6))"
   ]
  },
  {
   "cell_type": "markdown",
   "metadata": {},
   "source": [
    "### all-mpnet-base-v2"
   ]
  },
  {
   "cell_type": "code",
   "execution_count": 55,
   "metadata": {},
   "outputs": [
    {
     "name": "stdout",
     "output_type": "stream",
     "text": [
      "Most Similar Sessions\n",
      "                                     Original Session  Session Similarity  \\\n",
      "0   242 Understanding the Agro-Hydrologic Effects ...            0.673211   \n",
      "89  235 Recent Developments in Crop Protection Pro...            0.671140   \n",
      "34   213 Machinery Systems Data and Task Optimization            0.633848   \n",
      "3   215 Applications of Remote Sensing and UAVs in...            0.623618   \n",
      "55  330 Monitoring Standards: Applications, Method...            0.621249   \n",
      "\n",
      "    Session Std Dev  \n",
      "0          0.051228  \n",
      "89         0.056951  \n",
      "34         0.070188  \n",
      "3          0.051875  \n",
      "55         0.000000  \n",
      "Least Similar Sessions\n",
      "                                     Original Session  Session Similarity  \\\n",
      "72  326 Advances in Agrohydrological Sustainabilit...            0.339471   \n",
      "95  206 Digital Twins, DEM, and CFD Applications i...            0.339134   \n",
      "29  122 Physical and Chemical Properties of Food, ...            0.332687   \n",
      "30                       318 Food Process Engineering            0.313356   \n",
      "52  228 Analytical, Computational and Instrumentat...            0.260781   \n",
      "98  301 The Opportunities for Collaboration betwee...            0.000000   \n",
      "\n",
      "    Session Std Dev  \n",
      "72         0.088646  \n",
      "95         0.058018  \n",
      "29         0.050417  \n",
      "30         0.051660  \n",
      "52         0.040655  \n",
      "98              NaN  \n"
     ]
    }
   ],
   "source": [
    "df_sorted_mpnet = sessions_by_similarity(df_similarity_mpnet, df_presentations)\n",
    "print(\"Most Similar Sessions\")\n",
    "print(df_sorted_mpnet.head())\n",
    "print(\"Least Similar Sessions\")\n",
    "print(df_sorted_mpnet.tail(6))"
   ]
  },
  {
   "cell_type": "markdown",
   "metadata": {},
   "source": [
    "### cde-small-v1"
   ]
  },
  {
   "cell_type": "code",
   "execution_count": 56,
   "metadata": {},
   "outputs": [
    {
     "name": "stdout",
     "output_type": "stream",
     "text": [
      "Most Similar Sessions\n",
      "                                     Original Session  Session Similarity  \\\n",
      "55  330 Monitoring Standards: Applications, Method...            0.736611   \n",
      "89  235 Recent Developments in Crop Protection Pro...            0.724212   \n",
      "0   242 Understanding the Agro-Hydrologic Effects ...            0.713328   \n",
      "82  125 Exploring Safety in the Era of Autonomous ...            0.708768   \n",
      "16  129 AI-Driven Tools and Technologies for High ...            0.694384   \n",
      "\n",
      "    Session Std Dev  \n",
      "55         0.000000  \n",
      "89         0.038676  \n",
      "0          0.039953  \n",
      "82         0.033295  \n",
      "16         0.030068  \n",
      "Least Similar Sessions\n",
      "                                     Original Session  Session Similarity  \\\n",
      "29  122 Physical and Chemical Properties of Food, ...            0.503785   \n",
      "57  118 Agri-Industrial Facility Design and Operation            0.500282   \n",
      "52  228 Analytical, Computational and Instrumentat...            0.499576   \n",
      "31                        334 Food Safety Engineering            0.498700   \n",
      "30                       318 Food Process Engineering            0.480887   \n",
      "98  301 The Opportunities for Collaboration betwee...            0.000000   \n",
      "\n",
      "    Session Std Dev  \n",
      "29         0.027319  \n",
      "57         0.032248  \n",
      "52         0.030275  \n",
      "31         0.026679  \n",
      "30         0.034064  \n",
      "98              NaN  \n"
     ]
    }
   ],
   "source": [
    "df_sorted_cde = sessions_by_similarity(df_similarity_cde, df_presentations)\n",
    "print(\"Most Similar Sessions\")\n",
    "print(df_sorted_cde.head())\n",
    "print(\"Least Similar Sessions\")\n",
    "print(df_sorted_cde.tail(6))"
   ]
  },
  {
   "cell_type": "markdown",
   "metadata": {},
   "source": [
    "### nomic-embed-text-v1.5"
   ]
  },
  {
   "cell_type": "code",
   "execution_count": 57,
   "metadata": {},
   "outputs": [
    {
     "name": "stdout",
     "output_type": "stream",
     "text": [
      "Most Similar Sessions\n",
      "                                     Original Session  Session Similarity  \\\n",
      "55  330 Monitoring Standards: Applications, Method...            0.860937   \n",
      "89  235 Recent Developments in Crop Protection Pro...            0.838184   \n",
      "0   242 Understanding the Agro-Hydrologic Effects ...            0.814872   \n",
      "34   213 Machinery Systems Data and Task Optimization            0.811075   \n",
      "71  332 Measurement, Mitigation and Modeling of Ai...            0.802929   \n",
      "\n",
      "    Session Std Dev  \n",
      "55         0.000000  \n",
      "89         0.020569  \n",
      "0          0.026573  \n",
      "34         0.038518  \n",
      "71         0.013588  \n",
      "Least Similar Sessions\n",
      "                                     Original Session  Session Similarity  \\\n",
      "95  206 Digital Twins, DEM, and CFD Applications i...            0.676997   \n",
      "57  118 Agri-Industrial Facility Design and Operation            0.675718   \n",
      "29  122 Physical and Chemical Properties of Food, ...            0.673748   \n",
      "30                       318 Food Process Engineering            0.644089   \n",
      "52  228 Analytical, Computational and Instrumentat...            0.640503   \n",
      "98  301 The Opportunities for Collaboration betwee...            0.000000   \n",
      "\n",
      "    Session Std Dev  \n",
      "95         0.030198  \n",
      "57         0.018816  \n",
      "29         0.011954  \n",
      "30         0.024866  \n",
      "52         0.025341  \n",
      "98              NaN  \n"
     ]
    }
   ],
   "source": [
    "df_sorted_nomic = sessions_by_similarity(df_similarity_nomic, df_presentations)\n",
    "print(\"Most Similar Sessions\")\n",
    "print(df_sorted_nomic.head())\n",
    "print(\"Least Similar Sessions\")\n",
    "print(df_sorted_nomic.tail(6))"
   ]
  },
  {
   "cell_type": "code",
   "execution_count": 58,
   "metadata": {},
   "outputs": [],
   "source": [
    "# Save the sorted list dataframes\n",
    "df_sorted_mini.to_pickle('miniLM_sorted lists.pkl')\n",
    "df_sorted_mpnet.to_pickle('mpnet_sorted lists.pkl') \n",
    "df_sorted_cde.to_pickle('cde_sorted lists.pkl')\n",
    "df_sorted_nomic.to_pickle('nomic_sorted lists.pkl')"
   ]
  }
 ],
 "metadata": {
  "kernelspec": {
   "display_name": ".venv",
   "language": "python",
   "name": "python3"
  },
  "language_info": {
   "codemirror_mode": {
    "name": "ipython",
    "version": 3
   },
   "file_extension": ".py",
   "mimetype": "text/x-python",
   "name": "python",
   "nbconvert_exporter": "python",
   "pygments_lexer": "ipython3",
   "version": "3.12.4"
  }
 },
 "nbformat": 4,
 "nbformat_minor": 2
}
